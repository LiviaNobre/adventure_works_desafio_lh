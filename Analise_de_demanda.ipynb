{
  "nbformat": 4,
  "nbformat_minor": 0,
  "metadata": {
    "colab": {
      "provenance": [],
      "collapsed_sections": [
        "EsCVEEVF7IGf"
      ]
    },
    "kernelspec": {
      "name": "python3",
      "display_name": "Python 3"
    },
    "language_info": {
      "name": "python"
    }
  },
  "cells": [
    {
      "cell_type": "markdown",
      "source": [
        "# Advanced Analytics"
      ],
      "metadata": {
        "id": "xbljZ8C86a3x"
      }
    },
    {
      "cell_type": "markdown",
      "source": [
        "## **1. Coleta dos dados**"
      ],
      "metadata": {
        "id": "ga5X8sQb6vwp"
      }
    },
    {
      "cell_type": "markdown",
      "source": [
        "### **1.1. Instalação e importação das bibliotecas**"
      ],
      "metadata": {
        "id": "9goW20wG7DrW"
      }
    },
    {
      "cell_type": "code",
      "source": [
        "!pip install mlforecast\n"
      ],
      "metadata": {
        "colab": {
          "base_uri": "https://localhost:8080/"
        },
        "id": "szIThQok3sVx",
        "outputId": "fab6ec5a-48e0-4bcb-b27f-8100e82224a6"
      },
      "execution_count": 2,
      "outputs": [
        {
          "output_type": "stream",
          "name": "stdout",
          "text": [
            "Collecting mlforecast\n",
            "  Downloading mlforecast-1.0.1-py3-none-any.whl.metadata (13 kB)\n",
            "Requirement already satisfied: cloudpickle in /usr/local/lib/python3.11/dist-packages (from mlforecast) (3.1.1)\n",
            "Collecting coreforecast>=0.0.15 (from mlforecast)\n",
            "  Downloading coreforecast-0.0.15-cp311-cp311-manylinux_2_17_x86_64.manylinux2014_x86_64.whl.metadata (3.8 kB)\n",
            "Requirement already satisfied: fsspec in /usr/local/lib/python3.11/dist-packages (from mlforecast) (2024.10.0)\n",
            "Collecting optuna (from mlforecast)\n",
            "  Downloading optuna-4.2.0-py3-none-any.whl.metadata (17 kB)\n",
            "Requirement already satisfied: pandas in /usr/local/lib/python3.11/dist-packages (from mlforecast) (2.2.2)\n",
            "Requirement already satisfied: scikit-learn in /usr/local/lib/python3.11/dist-packages (from mlforecast) (1.6.1)\n",
            "Collecting utilsforecast>=0.2.9 (from mlforecast)\n",
            "  Downloading utilsforecast-0.2.11-py3-none-any.whl.metadata (7.7 kB)\n",
            "Requirement already satisfied: numpy>=1.20.0 in /usr/local/lib/python3.11/dist-packages (from coreforecast>=0.0.15->mlforecast) (1.26.4)\n",
            "Requirement already satisfied: packaging in /usr/local/lib/python3.11/dist-packages (from utilsforecast>=0.2.9->mlforecast) (24.2)\n",
            "Requirement already satisfied: python-dateutil>=2.8.2 in /usr/local/lib/python3.11/dist-packages (from pandas->mlforecast) (2.8.2)\n",
            "Requirement already satisfied: pytz>=2020.1 in /usr/local/lib/python3.11/dist-packages (from pandas->mlforecast) (2024.2)\n",
            "Requirement already satisfied: tzdata>=2022.7 in /usr/local/lib/python3.11/dist-packages (from pandas->mlforecast) (2025.1)\n",
            "Collecting alembic>=1.5.0 (from optuna->mlforecast)\n",
            "  Downloading alembic-1.14.1-py3-none-any.whl.metadata (7.4 kB)\n",
            "Collecting colorlog (from optuna->mlforecast)\n",
            "  Downloading colorlog-6.9.0-py3-none-any.whl.metadata (10 kB)\n",
            "Requirement already satisfied: sqlalchemy>=1.4.2 in /usr/local/lib/python3.11/dist-packages (from optuna->mlforecast) (2.0.37)\n",
            "Requirement already satisfied: tqdm in /usr/local/lib/python3.11/dist-packages (from optuna->mlforecast) (4.67.1)\n",
            "Requirement already satisfied: PyYAML in /usr/local/lib/python3.11/dist-packages (from optuna->mlforecast) (6.0.2)\n",
            "Requirement already satisfied: scipy>=1.6.0 in /usr/local/lib/python3.11/dist-packages (from scikit-learn->mlforecast) (1.13.1)\n",
            "Requirement already satisfied: joblib>=1.2.0 in /usr/local/lib/python3.11/dist-packages (from scikit-learn->mlforecast) (1.4.2)\n",
            "Requirement already satisfied: threadpoolctl>=3.1.0 in /usr/local/lib/python3.11/dist-packages (from scikit-learn->mlforecast) (3.5.0)\n",
            "Collecting Mako (from alembic>=1.5.0->optuna->mlforecast)\n",
            "  Downloading Mako-1.3.8-py3-none-any.whl.metadata (2.9 kB)\n",
            "Requirement already satisfied: typing-extensions>=4 in /usr/local/lib/python3.11/dist-packages (from alembic>=1.5.0->optuna->mlforecast) (4.12.2)\n",
            "Requirement already satisfied: six>=1.5 in /usr/local/lib/python3.11/dist-packages (from python-dateutil>=2.8.2->pandas->mlforecast) (1.17.0)\n",
            "Requirement already satisfied: greenlet!=0.4.17 in /usr/local/lib/python3.11/dist-packages (from sqlalchemy>=1.4.2->optuna->mlforecast) (3.1.1)\n",
            "Requirement already satisfied: MarkupSafe>=0.9.2 in /usr/local/lib/python3.11/dist-packages (from Mako->alembic>=1.5.0->optuna->mlforecast) (3.0.2)\n",
            "Downloading mlforecast-1.0.1-py3-none-any.whl (72 kB)\n",
            "\u001b[2K   \u001b[90m━━━━━━━━━━━━━━━━━━━━━━━━━━━━━━━━━━━━━━━━\u001b[0m \u001b[32m72.4/72.4 kB\u001b[0m \u001b[31m1.8 MB/s\u001b[0m eta \u001b[36m0:00:00\u001b[0m\n",
            "\u001b[?25hDownloading coreforecast-0.0.15-cp311-cp311-manylinux_2_17_x86_64.manylinux2014_x86_64.whl (275 kB)\n",
            "\u001b[2K   \u001b[90m━━━━━━━━━━━━━━━━━━━━━━━━━━━━━━━━━━━━━━━━\u001b[0m \u001b[32m275.8/275.8 kB\u001b[0m \u001b[31m7.3 MB/s\u001b[0m eta \u001b[36m0:00:00\u001b[0m\n",
            "\u001b[?25hDownloading utilsforecast-0.2.11-py3-none-any.whl (41 kB)\n",
            "\u001b[2K   \u001b[90m━━━━━━━━━━━━━━━━━━━━━━━━━━━━━━━━━━━━━━━━\u001b[0m \u001b[32m41.7/41.7 kB\u001b[0m \u001b[31m2.6 MB/s\u001b[0m eta \u001b[36m0:00:00\u001b[0m\n",
            "\u001b[?25hDownloading optuna-4.2.0-py3-none-any.whl (383 kB)\n",
            "\u001b[2K   \u001b[90m━━━━━━━━━━━━━━━━━━━━━━━━━━━━━━━━━━━━━━━━\u001b[0m \u001b[32m383.4/383.4 kB\u001b[0m \u001b[31m17.0 MB/s\u001b[0m eta \u001b[36m0:00:00\u001b[0m\n",
            "\u001b[?25hDownloading alembic-1.14.1-py3-none-any.whl (233 kB)\n",
            "\u001b[2K   \u001b[90m━━━━━━━━━━━━━━━━━━━━━━━━━━━━━━━━━━━━━━━━\u001b[0m \u001b[32m233.6/233.6 kB\u001b[0m \u001b[31m13.8 MB/s\u001b[0m eta \u001b[36m0:00:00\u001b[0m\n",
            "\u001b[?25hDownloading colorlog-6.9.0-py3-none-any.whl (11 kB)\n",
            "Downloading Mako-1.3.8-py3-none-any.whl (78 kB)\n",
            "\u001b[2K   \u001b[90m━━━━━━━━━━━━━━━━━━━━━━━━━━━━━━━━━━━━━━━━\u001b[0m \u001b[32m78.6/78.6 kB\u001b[0m \u001b[31m5.2 MB/s\u001b[0m eta \u001b[36m0:00:00\u001b[0m\n",
            "\u001b[?25hInstalling collected packages: Mako, coreforecast, colorlog, alembic, utilsforecast, optuna, mlforecast\n",
            "Successfully installed Mako-1.3.8 alembic-1.14.1 colorlog-6.9.0 coreforecast-0.0.15 mlforecast-1.0.1 optuna-4.2.0 utilsforecast-0.2.11\n"
          ]
        }
      ]
    },
    {
      "cell_type": "code",
      "source": [
        "!pip install hierarchicalforecast\n"
      ],
      "metadata": {
        "colab": {
          "base_uri": "https://localhost:8080/"
        },
        "id": "ro6xLHYKS_DU",
        "outputId": "50f58fb2-b58a-4066-acc2-e9d4e540f386"
      },
      "execution_count": 3,
      "outputs": [
        {
          "output_type": "stream",
          "name": "stdout",
          "text": [
            "Collecting hierarchicalforecast\n",
            "  Downloading hierarchicalforecast-1.0.1-py3-none-any.whl.metadata (10 kB)\n",
            "Requirement already satisfied: numpy in /usr/local/lib/python3.11/dist-packages (from hierarchicalforecast) (1.26.4)\n",
            "Requirement already satisfied: numba in /usr/local/lib/python3.11/dist-packages (from hierarchicalforecast) (0.60.0)\n",
            "Requirement already satisfied: pandas in /usr/local/lib/python3.11/dist-packages (from hierarchicalforecast) (2.2.2)\n",
            "Requirement already satisfied: scikit-learn>=1.2 in /usr/local/lib/python3.11/dist-packages (from hierarchicalforecast) (1.6.1)\n",
            "Collecting quadprog (from hierarchicalforecast)\n",
            "  Downloading quadprog-0.1.13-cp311-cp311-manylinux_2_17_x86_64.manylinux2014_x86_64.whl.metadata (1.2 kB)\n",
            "Requirement already satisfied: matplotlib in /usr/local/lib/python3.11/dist-packages (from hierarchicalforecast) (3.10.0)\n",
            "Requirement already satisfied: narwhals>=1.13.5 in /usr/local/lib/python3.11/dist-packages (from hierarchicalforecast) (1.23.0)\n",
            "Collecting intel-cmplr-lib-rt (from hierarchicalforecast)\n",
            "  Downloading intel_cmplr_lib_rt-2025.0.4-py2.py3-none-manylinux_2_28_x86_64.whl.metadata (1.2 kB)\n",
            "Requirement already satisfied: scipy>=1.6.0 in /usr/local/lib/python3.11/dist-packages (from scikit-learn>=1.2->hierarchicalforecast) (1.13.1)\n",
            "Requirement already satisfied: joblib>=1.2.0 in /usr/local/lib/python3.11/dist-packages (from scikit-learn>=1.2->hierarchicalforecast) (1.4.2)\n",
            "Requirement already satisfied: threadpoolctl>=3.1.0 in /usr/local/lib/python3.11/dist-packages (from scikit-learn>=1.2->hierarchicalforecast) (3.5.0)\n",
            "Requirement already satisfied: contourpy>=1.0.1 in /usr/local/lib/python3.11/dist-packages (from matplotlib->hierarchicalforecast) (1.3.1)\n",
            "Requirement already satisfied: cycler>=0.10 in /usr/local/lib/python3.11/dist-packages (from matplotlib->hierarchicalforecast) (0.12.1)\n",
            "Requirement already satisfied: fonttools>=4.22.0 in /usr/local/lib/python3.11/dist-packages (from matplotlib->hierarchicalforecast) (4.55.5)\n",
            "Requirement already satisfied: kiwisolver>=1.3.1 in /usr/local/lib/python3.11/dist-packages (from matplotlib->hierarchicalforecast) (1.4.8)\n",
            "Requirement already satisfied: packaging>=20.0 in /usr/local/lib/python3.11/dist-packages (from matplotlib->hierarchicalforecast) (24.2)\n",
            "Requirement already satisfied: pillow>=8 in /usr/local/lib/python3.11/dist-packages (from matplotlib->hierarchicalforecast) (11.1.0)\n",
            "Requirement already satisfied: pyparsing>=2.3.1 in /usr/local/lib/python3.11/dist-packages (from matplotlib->hierarchicalforecast) (3.2.1)\n",
            "Requirement already satisfied: python-dateutil>=2.7 in /usr/local/lib/python3.11/dist-packages (from matplotlib->hierarchicalforecast) (2.8.2)\n",
            "Requirement already satisfied: llvmlite<0.44,>=0.43.0dev0 in /usr/local/lib/python3.11/dist-packages (from numba->hierarchicalforecast) (0.43.0)\n",
            "Requirement already satisfied: pytz>=2020.1 in /usr/local/lib/python3.11/dist-packages (from pandas->hierarchicalforecast) (2024.2)\n",
            "Requirement already satisfied: tzdata>=2022.7 in /usr/local/lib/python3.11/dist-packages (from pandas->hierarchicalforecast) (2025.1)\n",
            "Requirement already satisfied: six>=1.5 in /usr/local/lib/python3.11/dist-packages (from python-dateutil>=2.7->matplotlib->hierarchicalforecast) (1.17.0)\n",
            "Downloading hierarchicalforecast-1.0.1-py3-none-any.whl (53 kB)\n",
            "\u001b[2K   \u001b[90m━━━━━━━━━━━━━━━━━━━━━━━━━━━━━━━━━━━━━━━━\u001b[0m \u001b[32m53.8/53.8 kB\u001b[0m \u001b[31m3.6 MB/s\u001b[0m eta \u001b[36m0:00:00\u001b[0m\n",
            "\u001b[?25hDownloading intel_cmplr_lib_rt-2025.0.4-py2.py3-none-manylinux_2_28_x86_64.whl (45.9 MB)\n",
            "\u001b[2K   \u001b[90m━━━━━━━━━━━━━━━━━━━━━━━━━━━━━━━━━━━━━━━━\u001b[0m \u001b[32m45.9/45.9 MB\u001b[0m \u001b[31m6.4 MB/s\u001b[0m eta \u001b[36m0:00:00\u001b[0m\n",
            "\u001b[?25hDownloading quadprog-0.1.13-cp311-cp311-manylinux_2_17_x86_64.manylinux2014_x86_64.whl (548 kB)\n",
            "\u001b[2K   \u001b[90m━━━━━━━━━━━━━━━━━━━━━━━━━━━━━━━━━━━━━━━━\u001b[0m \u001b[32m548.4/548.4 kB\u001b[0m \u001b[31m13.3 MB/s\u001b[0m eta \u001b[36m0:00:00\u001b[0m\n",
            "\u001b[?25hInstalling collected packages: intel-cmplr-lib-rt, quadprog, hierarchicalforecast\n",
            "Successfully installed hierarchicalforecast-1.0.1 intel-cmplr-lib-rt-2025.0.4 quadprog-0.1.13\n"
          ]
        }
      ]
    },
    {
      "cell_type": "code",
      "source": [
        "!pip install statsforecast"
      ],
      "metadata": {
        "colab": {
          "base_uri": "https://localhost:8080/"
        },
        "id": "NjUGlIGN6EcJ",
        "outputId": "a3231ecb-eac8-4f9b-c118-3fee1aa7d80c"
      },
      "execution_count": 4,
      "outputs": [
        {
          "output_type": "stream",
          "name": "stdout",
          "text": [
            "Collecting statsforecast\n",
            "  Downloading statsforecast-2.0.0-cp311-cp311-manylinux_2_17_x86_64.manylinux2014_x86_64.whl.metadata (28 kB)\n",
            "Requirement already satisfied: cloudpickle in /usr/local/lib/python3.11/dist-packages (from statsforecast) (3.1.1)\n",
            "Requirement already satisfied: coreforecast>=0.0.12 in /usr/local/lib/python3.11/dist-packages (from statsforecast) (0.0.15)\n",
            "Requirement already satisfied: numba>=0.55.0 in /usr/local/lib/python3.11/dist-packages (from statsforecast) (0.60.0)\n",
            "Requirement already satisfied: numpy>=1.21.6 in /usr/local/lib/python3.11/dist-packages (from statsforecast) (1.26.4)\n",
            "Requirement already satisfied: pandas>=1.3.5 in /usr/local/lib/python3.11/dist-packages (from statsforecast) (2.2.2)\n",
            "Requirement already satisfied: scipy>=1.7.3 in /usr/local/lib/python3.11/dist-packages (from statsforecast) (1.13.1)\n",
            "Requirement already satisfied: statsmodels>=0.13.2 in /usr/local/lib/python3.11/dist-packages (from statsforecast) (0.14.4)\n",
            "Requirement already satisfied: tqdm in /usr/local/lib/python3.11/dist-packages (from statsforecast) (4.67.1)\n",
            "Collecting fugue>=0.8.1 (from statsforecast)\n",
            "  Downloading fugue-0.9.1-py3-none-any.whl.metadata (18 kB)\n",
            "Requirement already satisfied: utilsforecast>=0.1.4 in /usr/local/lib/python3.11/dist-packages (from statsforecast) (0.2.11)\n",
            "Requirement already satisfied: threadpoolctl>=3 in /usr/local/lib/python3.11/dist-packages (from statsforecast) (3.5.0)\n",
            "Collecting triad>=0.9.7 (from fugue>=0.8.1->statsforecast)\n",
            "  Downloading triad-0.9.8-py3-none-any.whl.metadata (6.3 kB)\n",
            "Collecting adagio>=0.2.4 (from fugue>=0.8.1->statsforecast)\n",
            "  Downloading adagio-0.2.6-py3-none-any.whl.metadata (1.8 kB)\n",
            "Requirement already satisfied: llvmlite<0.44,>=0.43.0dev0 in /usr/local/lib/python3.11/dist-packages (from numba>=0.55.0->statsforecast) (0.43.0)\n",
            "Requirement already satisfied: python-dateutil>=2.8.2 in /usr/local/lib/python3.11/dist-packages (from pandas>=1.3.5->statsforecast) (2.8.2)\n",
            "Requirement already satisfied: pytz>=2020.1 in /usr/local/lib/python3.11/dist-packages (from pandas>=1.3.5->statsforecast) (2024.2)\n",
            "Requirement already satisfied: tzdata>=2022.7 in /usr/local/lib/python3.11/dist-packages (from pandas>=1.3.5->statsforecast) (2025.1)\n",
            "Requirement already satisfied: patsy>=0.5.6 in /usr/local/lib/python3.11/dist-packages (from statsmodels>=0.13.2->statsforecast) (1.0.1)\n",
            "Requirement already satisfied: packaging>=21.3 in /usr/local/lib/python3.11/dist-packages (from statsmodels>=0.13.2->statsforecast) (24.2)\n",
            "Requirement already satisfied: six>=1.5 in /usr/local/lib/python3.11/dist-packages (from python-dateutil>=2.8.2->pandas>=1.3.5->statsforecast) (1.17.0)\n",
            "Requirement already satisfied: pyarrow>=6.0.1 in /usr/local/lib/python3.11/dist-packages (from triad>=0.9.7->fugue>=0.8.1->statsforecast) (17.0.0)\n",
            "Requirement already satisfied: fsspec>=2022.5.0 in /usr/local/lib/python3.11/dist-packages (from triad>=0.9.7->fugue>=0.8.1->statsforecast) (2024.10.0)\n",
            "Collecting fs (from triad>=0.9.7->fugue>=0.8.1->statsforecast)\n",
            "  Downloading fs-2.4.16-py2.py3-none-any.whl.metadata (6.3 kB)\n",
            "Collecting appdirs~=1.4.3 (from fs->triad>=0.9.7->fugue>=0.8.1->statsforecast)\n",
            "  Downloading appdirs-1.4.4-py2.py3-none-any.whl.metadata (9.0 kB)\n",
            "Requirement already satisfied: setuptools in /usr/local/lib/python3.11/dist-packages (from fs->triad>=0.9.7->fugue>=0.8.1->statsforecast) (75.1.0)\n",
            "Downloading statsforecast-2.0.0-cp311-cp311-manylinux_2_17_x86_64.manylinux2014_x86_64.whl (319 kB)\n",
            "\u001b[2K   \u001b[90m━━━━━━━━━━━━━━━━━━━━━━━━━━━━━━━━━━━━━━━━\u001b[0m \u001b[32m319.7/319.7 kB\u001b[0m \u001b[31m8.1 MB/s\u001b[0m eta \u001b[36m0:00:00\u001b[0m\n",
            "\u001b[?25hDownloading fugue-0.9.1-py3-none-any.whl (278 kB)\n",
            "\u001b[2K   \u001b[90m━━━━━━━━━━━━━━━━━━━━━━━━━━━━━━━━━━━━━━━━\u001b[0m \u001b[32m278.2/278.2 kB\u001b[0m \u001b[31m17.0 MB/s\u001b[0m eta \u001b[36m0:00:00\u001b[0m\n",
            "\u001b[?25hDownloading adagio-0.2.6-py3-none-any.whl (19 kB)\n",
            "Downloading triad-0.9.8-py3-none-any.whl (62 kB)\n",
            "\u001b[2K   \u001b[90m━━━━━━━━━━━━━━━━━━━━━━━━━━━━━━━━━━━━━━━━\u001b[0m \u001b[32m62.3/62.3 kB\u001b[0m \u001b[31m3.6 MB/s\u001b[0m eta \u001b[36m0:00:00\u001b[0m\n",
            "\u001b[?25hDownloading fs-2.4.16-py2.py3-none-any.whl (135 kB)\n",
            "\u001b[2K   \u001b[90m━━━━━━━━━━━━━━━━━━━━━━━━━━━━━━━━━━━━━━━━\u001b[0m \u001b[32m135.3/135.3 kB\u001b[0m \u001b[31m4.8 MB/s\u001b[0m eta \u001b[36m0:00:00\u001b[0m\n",
            "\u001b[?25hDownloading appdirs-1.4.4-py2.py3-none-any.whl (9.6 kB)\n",
            "Installing collected packages: appdirs, fs, triad, adagio, fugue, statsforecast\n",
            "Successfully installed adagio-0.2.6 appdirs-1.4.4 fs-2.4.16 fugue-0.9.1 statsforecast-2.0.0 triad-0.9.8\n"
          ]
        }
      ]
    },
    {
      "cell_type": "code",
      "execution_count": 5,
      "metadata": {
        "id": "1WgVOiAw5GJi",
        "colab": {
          "base_uri": "https://localhost:8080/"
        },
        "outputId": "1190c2cb-7cfb-40c7-8a31-8032fe7dc56f"
      },
      "outputs": [
        {
          "output_type": "stream",
          "name": "stderr",
          "text": [
            "/usr/local/lib/python3.11/dist-packages/dask/dataframe/__init__.py:42: FutureWarning: \n",
            "Dask dataframe query planning is disabled because dask-expr is not installed.\n",
            "\n",
            "You can install it with `pip install dask[dataframe]` or `conda install dask`.\n",
            "This will raise in a future version.\n",
            "\n",
            "  warnings.warn(msg, FutureWarning)\n"
          ]
        }
      ],
      "source": [
        "# Bibliotecas padrão\n",
        "import os\n",
        "import requests\n",
        "\n",
        "# Bibliotecas para manipulação de dados\n",
        "import numpy as np\n",
        "import pandas as pd\n",
        "\n",
        "# Bibliotecas para visualização\n",
        "import matplotlib.pyplot as plt\n",
        "import seaborn as sns\n",
        "import plotly.express as px\n",
        "\n",
        "import statsforecast\n",
        "import warnings\n",
        "\n",
        "from statsmodels.tsa.seasonal import seasonal_decompose, DecomposeResult\n",
        "\n",
        "from statsmodels.tsa.seasonal import seasonal_decompose\n",
        "from sklearn.metrics import mean_squared_error, mean_absolute_error\n",
        "from statsmodels.tsa.statespace.sarimax import SARIMAX\n",
        "from prophet import Prophet\n",
        "from xgboost import XGBRegressor\n",
        "from sklearn.ensemble import RandomForestRegressor\n",
        "from sklearn.linear_model import LinearRegression\n",
        "\n",
        "from mlforecast import MLForecast\n",
        "from mlforecast.utils import PredictionIntervals\n",
        "from hierarchicalforecast.evaluation import evaluate\n",
        "from utilsforecast.losses import rmse\n",
        "\n",
        "from statsmodels.tsa.statespace.sarimax import SARIMAX\n",
        "from statsforecast.core import StatsForecast\n",
        "from statsforecast.models import AutoARIMA, Naive\n",
        "import pandas as pd\n",
        "\n",
        "\n",
        "pd.options.display.float_format = '{:,.2f}'.format\n",
        "warnings.filterwarnings(\"ignore\")"
      ]
    },
    {
      "cell_type": "markdown",
      "source": [
        "### **1.2. Carregamento dos dados**"
      ],
      "metadata": {
        "id": "EsCVEEVF7IGf"
      }
    },
    {
      "cell_type": "code",
      "source": [
        "df = pd.read_csv(\"vendas.csv\")\n",
        "df.head()"
      ],
      "metadata": {
        "id": "WDD8CMBA53M6",
        "colab": {
          "base_uri": "https://localhost:8080/",
          "height": 0
        },
        "outputId": "501f18fa-ce61-4538-ed45-d9a9183cc431"
      },
      "execution_count": 6,
      "outputs": [
        {
          "output_type": "execute_result",
          "data": {
            "text/plain": [
              "   customerid  businessentityid store_name  salesorderid  onlineorderflag  \\\n",
              "0       11012               NaN        NaN         68413             True   \n",
              "1       11012               NaN        NaN         68413             True   \n",
              "2       11012               NaN        NaN         54508             True   \n",
              "3       11012               NaN        NaN         54508             True   \n",
              "4       11012               NaN        NaN         54508             True   \n",
              "\n",
              "   salesorderdetailid  orderqty  unitprice category_name   orderdate  \\\n",
              "0               99734         1       2.29   Accessories  2014-03-17   \n",
              "1               99733         1       3.99   Accessories  2014-03-17   \n",
              "2               52646         1       4.99   Accessories  2013-08-16   \n",
              "3               52645         1      35.00   Accessories  2013-08-16   \n",
              "4               52647         1      34.99   Accessories  2013-08-16   \n",
              "\n",
              "   unitpricediscount  productid             product_name stateprovincecode  \\\n",
              "0               0.00        873      Patch Kit/8 Patches               WA    \n",
              "1               0.00        922           Road Tire Tube               WA    \n",
              "2               0.00        921       Mountain Tire Tube               WA    \n",
              "3               0.00        930         HL Mountain Tire               WA    \n",
              "4               0.00        708  Sport-100 Helmet, Black               WA    \n",
              "\n",
              "   state_name   country_name  totaldue  \n",
              "0  Washington  United States      6.94  \n",
              "1  Washington  United States      6.94  \n",
              "2  Washington  United States     82.85  \n",
              "3  Washington  United States     82.85  \n",
              "4  Washington  United States     82.85  "
            ],
            "text/html": [
              "\n",
              "  <div id=\"df-23521e0d-9bb3-4997-bc3f-51fcde2cb15e\" class=\"colab-df-container\">\n",
              "    <div>\n",
              "<style scoped>\n",
              "    .dataframe tbody tr th:only-of-type {\n",
              "        vertical-align: middle;\n",
              "    }\n",
              "\n",
              "    .dataframe tbody tr th {\n",
              "        vertical-align: top;\n",
              "    }\n",
              "\n",
              "    .dataframe thead th {\n",
              "        text-align: right;\n",
              "    }\n",
              "</style>\n",
              "<table border=\"1\" class=\"dataframe\">\n",
              "  <thead>\n",
              "    <tr style=\"text-align: right;\">\n",
              "      <th></th>\n",
              "      <th>customerid</th>\n",
              "      <th>businessentityid</th>\n",
              "      <th>store_name</th>\n",
              "      <th>salesorderid</th>\n",
              "      <th>onlineorderflag</th>\n",
              "      <th>salesorderdetailid</th>\n",
              "      <th>orderqty</th>\n",
              "      <th>unitprice</th>\n",
              "      <th>category_name</th>\n",
              "      <th>orderdate</th>\n",
              "      <th>unitpricediscount</th>\n",
              "      <th>productid</th>\n",
              "      <th>product_name</th>\n",
              "      <th>stateprovincecode</th>\n",
              "      <th>state_name</th>\n",
              "      <th>country_name</th>\n",
              "      <th>totaldue</th>\n",
              "    </tr>\n",
              "  </thead>\n",
              "  <tbody>\n",
              "    <tr>\n",
              "      <th>0</th>\n",
              "      <td>11012</td>\n",
              "      <td>NaN</td>\n",
              "      <td>NaN</td>\n",
              "      <td>68413</td>\n",
              "      <td>True</td>\n",
              "      <td>99734</td>\n",
              "      <td>1</td>\n",
              "      <td>2.29</td>\n",
              "      <td>Accessories</td>\n",
              "      <td>2014-03-17</td>\n",
              "      <td>0.00</td>\n",
              "      <td>873</td>\n",
              "      <td>Patch Kit/8 Patches</td>\n",
              "      <td>WA</td>\n",
              "      <td>Washington</td>\n",
              "      <td>United States</td>\n",
              "      <td>6.94</td>\n",
              "    </tr>\n",
              "    <tr>\n",
              "      <th>1</th>\n",
              "      <td>11012</td>\n",
              "      <td>NaN</td>\n",
              "      <td>NaN</td>\n",
              "      <td>68413</td>\n",
              "      <td>True</td>\n",
              "      <td>99733</td>\n",
              "      <td>1</td>\n",
              "      <td>3.99</td>\n",
              "      <td>Accessories</td>\n",
              "      <td>2014-03-17</td>\n",
              "      <td>0.00</td>\n",
              "      <td>922</td>\n",
              "      <td>Road Tire Tube</td>\n",
              "      <td>WA</td>\n",
              "      <td>Washington</td>\n",
              "      <td>United States</td>\n",
              "      <td>6.94</td>\n",
              "    </tr>\n",
              "    <tr>\n",
              "      <th>2</th>\n",
              "      <td>11012</td>\n",
              "      <td>NaN</td>\n",
              "      <td>NaN</td>\n",
              "      <td>54508</td>\n",
              "      <td>True</td>\n",
              "      <td>52646</td>\n",
              "      <td>1</td>\n",
              "      <td>4.99</td>\n",
              "      <td>Accessories</td>\n",
              "      <td>2013-08-16</td>\n",
              "      <td>0.00</td>\n",
              "      <td>921</td>\n",
              "      <td>Mountain Tire Tube</td>\n",
              "      <td>WA</td>\n",
              "      <td>Washington</td>\n",
              "      <td>United States</td>\n",
              "      <td>82.85</td>\n",
              "    </tr>\n",
              "    <tr>\n",
              "      <th>3</th>\n",
              "      <td>11012</td>\n",
              "      <td>NaN</td>\n",
              "      <td>NaN</td>\n",
              "      <td>54508</td>\n",
              "      <td>True</td>\n",
              "      <td>52645</td>\n",
              "      <td>1</td>\n",
              "      <td>35.00</td>\n",
              "      <td>Accessories</td>\n",
              "      <td>2013-08-16</td>\n",
              "      <td>0.00</td>\n",
              "      <td>930</td>\n",
              "      <td>HL Mountain Tire</td>\n",
              "      <td>WA</td>\n",
              "      <td>Washington</td>\n",
              "      <td>United States</td>\n",
              "      <td>82.85</td>\n",
              "    </tr>\n",
              "    <tr>\n",
              "      <th>4</th>\n",
              "      <td>11012</td>\n",
              "      <td>NaN</td>\n",
              "      <td>NaN</td>\n",
              "      <td>54508</td>\n",
              "      <td>True</td>\n",
              "      <td>52647</td>\n",
              "      <td>1</td>\n",
              "      <td>34.99</td>\n",
              "      <td>Accessories</td>\n",
              "      <td>2013-08-16</td>\n",
              "      <td>0.00</td>\n",
              "      <td>708</td>\n",
              "      <td>Sport-100 Helmet, Black</td>\n",
              "      <td>WA</td>\n",
              "      <td>Washington</td>\n",
              "      <td>United States</td>\n",
              "      <td>82.85</td>\n",
              "    </tr>\n",
              "  </tbody>\n",
              "</table>\n",
              "</div>\n",
              "    <div class=\"colab-df-buttons\">\n",
              "\n",
              "  <div class=\"colab-df-container\">\n",
              "    <button class=\"colab-df-convert\" onclick=\"convertToInteractive('df-23521e0d-9bb3-4997-bc3f-51fcde2cb15e')\"\n",
              "            title=\"Convert this dataframe to an interactive table.\"\n",
              "            style=\"display:none;\">\n",
              "\n",
              "  <svg xmlns=\"http://www.w3.org/2000/svg\" height=\"24px\" viewBox=\"0 -960 960 960\">\n",
              "    <path d=\"M120-120v-720h720v720H120Zm60-500h600v-160H180v160Zm220 220h160v-160H400v160Zm0 220h160v-160H400v160ZM180-400h160v-160H180v160Zm440 0h160v-160H620v160ZM180-180h160v-160H180v160Zm440 0h160v-160H620v160Z\"/>\n",
              "  </svg>\n",
              "    </button>\n",
              "\n",
              "  <style>\n",
              "    .colab-df-container {\n",
              "      display:flex;\n",
              "      gap: 12px;\n",
              "    }\n",
              "\n",
              "    .colab-df-convert {\n",
              "      background-color: #E8F0FE;\n",
              "      border: none;\n",
              "      border-radius: 50%;\n",
              "      cursor: pointer;\n",
              "      display: none;\n",
              "      fill: #1967D2;\n",
              "      height: 32px;\n",
              "      padding: 0 0 0 0;\n",
              "      width: 32px;\n",
              "    }\n",
              "\n",
              "    .colab-df-convert:hover {\n",
              "      background-color: #E2EBFA;\n",
              "      box-shadow: 0px 1px 2px rgba(60, 64, 67, 0.3), 0px 1px 3px 1px rgba(60, 64, 67, 0.15);\n",
              "      fill: #174EA6;\n",
              "    }\n",
              "\n",
              "    .colab-df-buttons div {\n",
              "      margin-bottom: 4px;\n",
              "    }\n",
              "\n",
              "    [theme=dark] .colab-df-convert {\n",
              "      background-color: #3B4455;\n",
              "      fill: #D2E3FC;\n",
              "    }\n",
              "\n",
              "    [theme=dark] .colab-df-convert:hover {\n",
              "      background-color: #434B5C;\n",
              "      box-shadow: 0px 1px 3px 1px rgba(0, 0, 0, 0.15);\n",
              "      filter: drop-shadow(0px 1px 2px rgba(0, 0, 0, 0.3));\n",
              "      fill: #FFFFFF;\n",
              "    }\n",
              "  </style>\n",
              "\n",
              "    <script>\n",
              "      const buttonEl =\n",
              "        document.querySelector('#df-23521e0d-9bb3-4997-bc3f-51fcde2cb15e button.colab-df-convert');\n",
              "      buttonEl.style.display =\n",
              "        google.colab.kernel.accessAllowed ? 'block' : 'none';\n",
              "\n",
              "      async function convertToInteractive(key) {\n",
              "        const element = document.querySelector('#df-23521e0d-9bb3-4997-bc3f-51fcde2cb15e');\n",
              "        const dataTable =\n",
              "          await google.colab.kernel.invokeFunction('convertToInteractive',\n",
              "                                                    [key], {});\n",
              "        if (!dataTable) return;\n",
              "\n",
              "        const docLinkHtml = 'Like what you see? Visit the ' +\n",
              "          '<a target=\"_blank\" href=https://colab.research.google.com/notebooks/data_table.ipynb>data table notebook</a>'\n",
              "          + ' to learn more about interactive tables.';\n",
              "        element.innerHTML = '';\n",
              "        dataTable['output_type'] = 'display_data';\n",
              "        await google.colab.output.renderOutput(dataTable, element);\n",
              "        const docLink = document.createElement('div');\n",
              "        docLink.innerHTML = docLinkHtml;\n",
              "        element.appendChild(docLink);\n",
              "      }\n",
              "    </script>\n",
              "  </div>\n",
              "\n",
              "\n",
              "<div id=\"df-22a84c6d-bd5b-4f32-a6d1-924c41feb4a7\">\n",
              "  <button class=\"colab-df-quickchart\" onclick=\"quickchart('df-22a84c6d-bd5b-4f32-a6d1-924c41feb4a7')\"\n",
              "            title=\"Suggest charts\"\n",
              "            style=\"display:none;\">\n",
              "\n",
              "<svg xmlns=\"http://www.w3.org/2000/svg\" height=\"24px\"viewBox=\"0 0 24 24\"\n",
              "     width=\"24px\">\n",
              "    <g>\n",
              "        <path d=\"M19 3H5c-1.1 0-2 .9-2 2v14c0 1.1.9 2 2 2h14c1.1 0 2-.9 2-2V5c0-1.1-.9-2-2-2zM9 17H7v-7h2v7zm4 0h-2V7h2v10zm4 0h-2v-4h2v4z\"/>\n",
              "    </g>\n",
              "</svg>\n",
              "  </button>\n",
              "\n",
              "<style>\n",
              "  .colab-df-quickchart {\n",
              "      --bg-color: #E8F0FE;\n",
              "      --fill-color: #1967D2;\n",
              "      --hover-bg-color: #E2EBFA;\n",
              "      --hover-fill-color: #174EA6;\n",
              "      --disabled-fill-color: #AAA;\n",
              "      --disabled-bg-color: #DDD;\n",
              "  }\n",
              "\n",
              "  [theme=dark] .colab-df-quickchart {\n",
              "      --bg-color: #3B4455;\n",
              "      --fill-color: #D2E3FC;\n",
              "      --hover-bg-color: #434B5C;\n",
              "      --hover-fill-color: #FFFFFF;\n",
              "      --disabled-bg-color: #3B4455;\n",
              "      --disabled-fill-color: #666;\n",
              "  }\n",
              "\n",
              "  .colab-df-quickchart {\n",
              "    background-color: var(--bg-color);\n",
              "    border: none;\n",
              "    border-radius: 50%;\n",
              "    cursor: pointer;\n",
              "    display: none;\n",
              "    fill: var(--fill-color);\n",
              "    height: 32px;\n",
              "    padding: 0;\n",
              "    width: 32px;\n",
              "  }\n",
              "\n",
              "  .colab-df-quickchart:hover {\n",
              "    background-color: var(--hover-bg-color);\n",
              "    box-shadow: 0 1px 2px rgba(60, 64, 67, 0.3), 0 1px 3px 1px rgba(60, 64, 67, 0.15);\n",
              "    fill: var(--button-hover-fill-color);\n",
              "  }\n",
              "\n",
              "  .colab-df-quickchart-complete:disabled,\n",
              "  .colab-df-quickchart-complete:disabled:hover {\n",
              "    background-color: var(--disabled-bg-color);\n",
              "    fill: var(--disabled-fill-color);\n",
              "    box-shadow: none;\n",
              "  }\n",
              "\n",
              "  .colab-df-spinner {\n",
              "    border: 2px solid var(--fill-color);\n",
              "    border-color: transparent;\n",
              "    border-bottom-color: var(--fill-color);\n",
              "    animation:\n",
              "      spin 1s steps(1) infinite;\n",
              "  }\n",
              "\n",
              "  @keyframes spin {\n",
              "    0% {\n",
              "      border-color: transparent;\n",
              "      border-bottom-color: var(--fill-color);\n",
              "      border-left-color: var(--fill-color);\n",
              "    }\n",
              "    20% {\n",
              "      border-color: transparent;\n",
              "      border-left-color: var(--fill-color);\n",
              "      border-top-color: var(--fill-color);\n",
              "    }\n",
              "    30% {\n",
              "      border-color: transparent;\n",
              "      border-left-color: var(--fill-color);\n",
              "      border-top-color: var(--fill-color);\n",
              "      border-right-color: var(--fill-color);\n",
              "    }\n",
              "    40% {\n",
              "      border-color: transparent;\n",
              "      border-right-color: var(--fill-color);\n",
              "      border-top-color: var(--fill-color);\n",
              "    }\n",
              "    60% {\n",
              "      border-color: transparent;\n",
              "      border-right-color: var(--fill-color);\n",
              "    }\n",
              "    80% {\n",
              "      border-color: transparent;\n",
              "      border-right-color: var(--fill-color);\n",
              "      border-bottom-color: var(--fill-color);\n",
              "    }\n",
              "    90% {\n",
              "      border-color: transparent;\n",
              "      border-bottom-color: var(--fill-color);\n",
              "    }\n",
              "  }\n",
              "</style>\n",
              "\n",
              "  <script>\n",
              "    async function quickchart(key) {\n",
              "      const quickchartButtonEl =\n",
              "        document.querySelector('#' + key + ' button');\n",
              "      quickchartButtonEl.disabled = true;  // To prevent multiple clicks.\n",
              "      quickchartButtonEl.classList.add('colab-df-spinner');\n",
              "      try {\n",
              "        const charts = await google.colab.kernel.invokeFunction(\n",
              "            'suggestCharts', [key], {});\n",
              "      } catch (error) {\n",
              "        console.error('Error during call to suggestCharts:', error);\n",
              "      }\n",
              "      quickchartButtonEl.classList.remove('colab-df-spinner');\n",
              "      quickchartButtonEl.classList.add('colab-df-quickchart-complete');\n",
              "    }\n",
              "    (() => {\n",
              "      let quickchartButtonEl =\n",
              "        document.querySelector('#df-22a84c6d-bd5b-4f32-a6d1-924c41feb4a7 button');\n",
              "      quickchartButtonEl.style.display =\n",
              "        google.colab.kernel.accessAllowed ? 'block' : 'none';\n",
              "    })();\n",
              "  </script>\n",
              "</div>\n",
              "\n",
              "    </div>\n",
              "  </div>\n"
            ],
            "application/vnd.google.colaboratory.intrinsic+json": {
              "type": "dataframe",
              "variable_name": "df"
            }
          },
          "metadata": {},
          "execution_count": 6
        }
      ]
    },
    {
      "cell_type": "markdown",
      "source": [
        "## **2. Transformação dos dados**\n"
      ],
      "metadata": {
        "id": "_0pnLzAY7S2O"
      }
    },
    {
      "cell_type": "markdown",
      "source": [
        "### **2.1. Dados nulos**\n",
        "\n"
      ],
      "metadata": {
        "id": "JQ-FcxPv7hpm"
      }
    },
    {
      "cell_type": "markdown",
      "source": [
        "É possivel ver que as colunas businessentityid e store_name tem a mesma quantidade de valores nulos."
      ],
      "metadata": {
        "id": "hN5or_Jj76Gu"
      }
    },
    {
      "cell_type": "code",
      "source": [
        "df.isnull().sum()"
      ],
      "metadata": {
        "colab": {
          "base_uri": "https://localhost:8080/",
          "height": 617
        },
        "id": "DDENnK7x76z2",
        "outputId": "c96085b9-efcb-420a-e6fd-c988a5c035ba"
      },
      "execution_count": 7,
      "outputs": [
        {
          "output_type": "execute_result",
          "data": {
            "text/plain": [
              "customerid                0\n",
              "businessentityid      60398\n",
              "store_name            60398\n",
              "salesorderid              0\n",
              "onlineorderflag           0\n",
              "salesorderdetailid        0\n",
              "orderqty                  0\n",
              "unitprice                 0\n",
              "category_name             0\n",
              "orderdate                 0\n",
              "unitpricediscount         0\n",
              "productid                 0\n",
              "product_name              0\n",
              "stateprovincecode         0\n",
              "state_name                0\n",
              "country_name              0\n",
              "totaldue                  0\n",
              "dtype: int64"
            ],
            "text/html": [
              "<div>\n",
              "<style scoped>\n",
              "    .dataframe tbody tr th:only-of-type {\n",
              "        vertical-align: middle;\n",
              "    }\n",
              "\n",
              "    .dataframe tbody tr th {\n",
              "        vertical-align: top;\n",
              "    }\n",
              "\n",
              "    .dataframe thead th {\n",
              "        text-align: right;\n",
              "    }\n",
              "</style>\n",
              "<table border=\"1\" class=\"dataframe\">\n",
              "  <thead>\n",
              "    <tr style=\"text-align: right;\">\n",
              "      <th></th>\n",
              "      <th>0</th>\n",
              "    </tr>\n",
              "  </thead>\n",
              "  <tbody>\n",
              "    <tr>\n",
              "      <th>customerid</th>\n",
              "      <td>0</td>\n",
              "    </tr>\n",
              "    <tr>\n",
              "      <th>businessentityid</th>\n",
              "      <td>60398</td>\n",
              "    </tr>\n",
              "    <tr>\n",
              "      <th>store_name</th>\n",
              "      <td>60398</td>\n",
              "    </tr>\n",
              "    <tr>\n",
              "      <th>salesorderid</th>\n",
              "      <td>0</td>\n",
              "    </tr>\n",
              "    <tr>\n",
              "      <th>onlineorderflag</th>\n",
              "      <td>0</td>\n",
              "    </tr>\n",
              "    <tr>\n",
              "      <th>salesorderdetailid</th>\n",
              "      <td>0</td>\n",
              "    </tr>\n",
              "    <tr>\n",
              "      <th>orderqty</th>\n",
              "      <td>0</td>\n",
              "    </tr>\n",
              "    <tr>\n",
              "      <th>unitprice</th>\n",
              "      <td>0</td>\n",
              "    </tr>\n",
              "    <tr>\n",
              "      <th>category_name</th>\n",
              "      <td>0</td>\n",
              "    </tr>\n",
              "    <tr>\n",
              "      <th>orderdate</th>\n",
              "      <td>0</td>\n",
              "    </tr>\n",
              "    <tr>\n",
              "      <th>unitpricediscount</th>\n",
              "      <td>0</td>\n",
              "    </tr>\n",
              "    <tr>\n",
              "      <th>productid</th>\n",
              "      <td>0</td>\n",
              "    </tr>\n",
              "    <tr>\n",
              "      <th>product_name</th>\n",
              "      <td>0</td>\n",
              "    </tr>\n",
              "    <tr>\n",
              "      <th>stateprovincecode</th>\n",
              "      <td>0</td>\n",
              "    </tr>\n",
              "    <tr>\n",
              "      <th>state_name</th>\n",
              "      <td>0</td>\n",
              "    </tr>\n",
              "    <tr>\n",
              "      <th>country_name</th>\n",
              "      <td>0</td>\n",
              "    </tr>\n",
              "    <tr>\n",
              "      <th>totaldue</th>\n",
              "      <td>0</td>\n",
              "    </tr>\n",
              "  </tbody>\n",
              "</table>\n",
              "</div><br><label><b>dtype:</b> int64</label>"
            ]
          },
          "metadata": {},
          "execution_count": 7
        }
      ]
    },
    {
      "cell_type": "code",
      "source": [
        "condicao = df[df['store_name'].isnull()]['onlineorderflag'] == True\n",
        "todas_verdadeiras = condicao.all()\n",
        "\n",
        "if todas_verdadeiras:\n",
        "    print(\"Todas as lojas com store_names nulo têm onlineorderflag = True.\")\n",
        "else:\n",
        "    print(\"Alguma loja com store_names nulo não tem onlineorderflag = True.\")"
      ],
      "metadata": {
        "colab": {
          "base_uri": "https://localhost:8080/"
        },
        "id": "b0Njhg887mcs",
        "outputId": "00289bcd-4a3a-46e1-e501-3241e44b4911"
      },
      "execution_count": 8,
      "outputs": [
        {
          "output_type": "stream",
          "name": "stdout",
          "text": [
            "Todas as lojas com store_names nulo têm onlineorderflag = True.\n"
          ]
        }
      ]
    },
    {
      "cell_type": "code",
      "source": [
        "df['store_name'].fillna('e-commerce', inplace=True)\n",
        "df.head()"
      ],
      "metadata": {
        "colab": {
          "base_uri": "https://localhost:8080/",
          "height": 313
        },
        "id": "09Tj-fPg-pN2",
        "outputId": "49a3bb47-75f5-4c83-ddaf-6fb3a1298093"
      },
      "execution_count": 9,
      "outputs": [
        {
          "output_type": "execute_result",
          "data": {
            "text/plain": [
              "   customerid  businessentityid  store_name  salesorderid  onlineorderflag  \\\n",
              "0       11012               NaN  e-commerce         68413             True   \n",
              "1       11012               NaN  e-commerce         68413             True   \n",
              "2       11012               NaN  e-commerce         54508             True   \n",
              "3       11012               NaN  e-commerce         54508             True   \n",
              "4       11012               NaN  e-commerce         54508             True   \n",
              "\n",
              "   salesorderdetailid  orderqty  unitprice category_name   orderdate  \\\n",
              "0               99734         1       2.29   Accessories  2014-03-17   \n",
              "1               99733         1       3.99   Accessories  2014-03-17   \n",
              "2               52646         1       4.99   Accessories  2013-08-16   \n",
              "3               52645         1      35.00   Accessories  2013-08-16   \n",
              "4               52647         1      34.99   Accessories  2013-08-16   \n",
              "\n",
              "   unitpricediscount  productid             product_name stateprovincecode  \\\n",
              "0               0.00        873      Patch Kit/8 Patches               WA    \n",
              "1               0.00        922           Road Tire Tube               WA    \n",
              "2               0.00        921       Mountain Tire Tube               WA    \n",
              "3               0.00        930         HL Mountain Tire               WA    \n",
              "4               0.00        708  Sport-100 Helmet, Black               WA    \n",
              "\n",
              "   state_name   country_name  totaldue  \n",
              "0  Washington  United States      6.94  \n",
              "1  Washington  United States      6.94  \n",
              "2  Washington  United States     82.85  \n",
              "3  Washington  United States     82.85  \n",
              "4  Washington  United States     82.85  "
            ],
            "text/html": [
              "\n",
              "  <div id=\"df-bef3a054-0c1d-4e8d-8525-a2470822958b\" class=\"colab-df-container\">\n",
              "    <div>\n",
              "<style scoped>\n",
              "    .dataframe tbody tr th:only-of-type {\n",
              "        vertical-align: middle;\n",
              "    }\n",
              "\n",
              "    .dataframe tbody tr th {\n",
              "        vertical-align: top;\n",
              "    }\n",
              "\n",
              "    .dataframe thead th {\n",
              "        text-align: right;\n",
              "    }\n",
              "</style>\n",
              "<table border=\"1\" class=\"dataframe\">\n",
              "  <thead>\n",
              "    <tr style=\"text-align: right;\">\n",
              "      <th></th>\n",
              "      <th>customerid</th>\n",
              "      <th>businessentityid</th>\n",
              "      <th>store_name</th>\n",
              "      <th>salesorderid</th>\n",
              "      <th>onlineorderflag</th>\n",
              "      <th>salesorderdetailid</th>\n",
              "      <th>orderqty</th>\n",
              "      <th>unitprice</th>\n",
              "      <th>category_name</th>\n",
              "      <th>orderdate</th>\n",
              "      <th>unitpricediscount</th>\n",
              "      <th>productid</th>\n",
              "      <th>product_name</th>\n",
              "      <th>stateprovincecode</th>\n",
              "      <th>state_name</th>\n",
              "      <th>country_name</th>\n",
              "      <th>totaldue</th>\n",
              "    </tr>\n",
              "  </thead>\n",
              "  <tbody>\n",
              "    <tr>\n",
              "      <th>0</th>\n",
              "      <td>11012</td>\n",
              "      <td>NaN</td>\n",
              "      <td>e-commerce</td>\n",
              "      <td>68413</td>\n",
              "      <td>True</td>\n",
              "      <td>99734</td>\n",
              "      <td>1</td>\n",
              "      <td>2.29</td>\n",
              "      <td>Accessories</td>\n",
              "      <td>2014-03-17</td>\n",
              "      <td>0.00</td>\n",
              "      <td>873</td>\n",
              "      <td>Patch Kit/8 Patches</td>\n",
              "      <td>WA</td>\n",
              "      <td>Washington</td>\n",
              "      <td>United States</td>\n",
              "      <td>6.94</td>\n",
              "    </tr>\n",
              "    <tr>\n",
              "      <th>1</th>\n",
              "      <td>11012</td>\n",
              "      <td>NaN</td>\n",
              "      <td>e-commerce</td>\n",
              "      <td>68413</td>\n",
              "      <td>True</td>\n",
              "      <td>99733</td>\n",
              "      <td>1</td>\n",
              "      <td>3.99</td>\n",
              "      <td>Accessories</td>\n",
              "      <td>2014-03-17</td>\n",
              "      <td>0.00</td>\n",
              "      <td>922</td>\n",
              "      <td>Road Tire Tube</td>\n",
              "      <td>WA</td>\n",
              "      <td>Washington</td>\n",
              "      <td>United States</td>\n",
              "      <td>6.94</td>\n",
              "    </tr>\n",
              "    <tr>\n",
              "      <th>2</th>\n",
              "      <td>11012</td>\n",
              "      <td>NaN</td>\n",
              "      <td>e-commerce</td>\n",
              "      <td>54508</td>\n",
              "      <td>True</td>\n",
              "      <td>52646</td>\n",
              "      <td>1</td>\n",
              "      <td>4.99</td>\n",
              "      <td>Accessories</td>\n",
              "      <td>2013-08-16</td>\n",
              "      <td>0.00</td>\n",
              "      <td>921</td>\n",
              "      <td>Mountain Tire Tube</td>\n",
              "      <td>WA</td>\n",
              "      <td>Washington</td>\n",
              "      <td>United States</td>\n",
              "      <td>82.85</td>\n",
              "    </tr>\n",
              "    <tr>\n",
              "      <th>3</th>\n",
              "      <td>11012</td>\n",
              "      <td>NaN</td>\n",
              "      <td>e-commerce</td>\n",
              "      <td>54508</td>\n",
              "      <td>True</td>\n",
              "      <td>52645</td>\n",
              "      <td>1</td>\n",
              "      <td>35.00</td>\n",
              "      <td>Accessories</td>\n",
              "      <td>2013-08-16</td>\n",
              "      <td>0.00</td>\n",
              "      <td>930</td>\n",
              "      <td>HL Mountain Tire</td>\n",
              "      <td>WA</td>\n",
              "      <td>Washington</td>\n",
              "      <td>United States</td>\n",
              "      <td>82.85</td>\n",
              "    </tr>\n",
              "    <tr>\n",
              "      <th>4</th>\n",
              "      <td>11012</td>\n",
              "      <td>NaN</td>\n",
              "      <td>e-commerce</td>\n",
              "      <td>54508</td>\n",
              "      <td>True</td>\n",
              "      <td>52647</td>\n",
              "      <td>1</td>\n",
              "      <td>34.99</td>\n",
              "      <td>Accessories</td>\n",
              "      <td>2013-08-16</td>\n",
              "      <td>0.00</td>\n",
              "      <td>708</td>\n",
              "      <td>Sport-100 Helmet, Black</td>\n",
              "      <td>WA</td>\n",
              "      <td>Washington</td>\n",
              "      <td>United States</td>\n",
              "      <td>82.85</td>\n",
              "    </tr>\n",
              "  </tbody>\n",
              "</table>\n",
              "</div>\n",
              "    <div class=\"colab-df-buttons\">\n",
              "\n",
              "  <div class=\"colab-df-container\">\n",
              "    <button class=\"colab-df-convert\" onclick=\"convertToInteractive('df-bef3a054-0c1d-4e8d-8525-a2470822958b')\"\n",
              "            title=\"Convert this dataframe to an interactive table.\"\n",
              "            style=\"display:none;\">\n",
              "\n",
              "  <svg xmlns=\"http://www.w3.org/2000/svg\" height=\"24px\" viewBox=\"0 -960 960 960\">\n",
              "    <path d=\"M120-120v-720h720v720H120Zm60-500h600v-160H180v160Zm220 220h160v-160H400v160Zm0 220h160v-160H400v160ZM180-400h160v-160H180v160Zm440 0h160v-160H620v160ZM180-180h160v-160H180v160Zm440 0h160v-160H620v160Z\"/>\n",
              "  </svg>\n",
              "    </button>\n",
              "\n",
              "  <style>\n",
              "    .colab-df-container {\n",
              "      display:flex;\n",
              "      gap: 12px;\n",
              "    }\n",
              "\n",
              "    .colab-df-convert {\n",
              "      background-color: #E8F0FE;\n",
              "      border: none;\n",
              "      border-radius: 50%;\n",
              "      cursor: pointer;\n",
              "      display: none;\n",
              "      fill: #1967D2;\n",
              "      height: 32px;\n",
              "      padding: 0 0 0 0;\n",
              "      width: 32px;\n",
              "    }\n",
              "\n",
              "    .colab-df-convert:hover {\n",
              "      background-color: #E2EBFA;\n",
              "      box-shadow: 0px 1px 2px rgba(60, 64, 67, 0.3), 0px 1px 3px 1px rgba(60, 64, 67, 0.15);\n",
              "      fill: #174EA6;\n",
              "    }\n",
              "\n",
              "    .colab-df-buttons div {\n",
              "      margin-bottom: 4px;\n",
              "    }\n",
              "\n",
              "    [theme=dark] .colab-df-convert {\n",
              "      background-color: #3B4455;\n",
              "      fill: #D2E3FC;\n",
              "    }\n",
              "\n",
              "    [theme=dark] .colab-df-convert:hover {\n",
              "      background-color: #434B5C;\n",
              "      box-shadow: 0px 1px 3px 1px rgba(0, 0, 0, 0.15);\n",
              "      filter: drop-shadow(0px 1px 2px rgba(0, 0, 0, 0.3));\n",
              "      fill: #FFFFFF;\n",
              "    }\n",
              "  </style>\n",
              "\n",
              "    <script>\n",
              "      const buttonEl =\n",
              "        document.querySelector('#df-bef3a054-0c1d-4e8d-8525-a2470822958b button.colab-df-convert');\n",
              "      buttonEl.style.display =\n",
              "        google.colab.kernel.accessAllowed ? 'block' : 'none';\n",
              "\n",
              "      async function convertToInteractive(key) {\n",
              "        const element = document.querySelector('#df-bef3a054-0c1d-4e8d-8525-a2470822958b');\n",
              "        const dataTable =\n",
              "          await google.colab.kernel.invokeFunction('convertToInteractive',\n",
              "                                                    [key], {});\n",
              "        if (!dataTable) return;\n",
              "\n",
              "        const docLinkHtml = 'Like what you see? Visit the ' +\n",
              "          '<a target=\"_blank\" href=https://colab.research.google.com/notebooks/data_table.ipynb>data table notebook</a>'\n",
              "          + ' to learn more about interactive tables.';\n",
              "        element.innerHTML = '';\n",
              "        dataTable['output_type'] = 'display_data';\n",
              "        await google.colab.output.renderOutput(dataTable, element);\n",
              "        const docLink = document.createElement('div');\n",
              "        docLink.innerHTML = docLinkHtml;\n",
              "        element.appendChild(docLink);\n",
              "      }\n",
              "    </script>\n",
              "  </div>\n",
              "\n",
              "\n",
              "<div id=\"df-e61dc98f-8278-44b1-9072-06fe115fcc51\">\n",
              "  <button class=\"colab-df-quickchart\" onclick=\"quickchart('df-e61dc98f-8278-44b1-9072-06fe115fcc51')\"\n",
              "            title=\"Suggest charts\"\n",
              "            style=\"display:none;\">\n",
              "\n",
              "<svg xmlns=\"http://www.w3.org/2000/svg\" height=\"24px\"viewBox=\"0 0 24 24\"\n",
              "     width=\"24px\">\n",
              "    <g>\n",
              "        <path d=\"M19 3H5c-1.1 0-2 .9-2 2v14c0 1.1.9 2 2 2h14c1.1 0 2-.9 2-2V5c0-1.1-.9-2-2-2zM9 17H7v-7h2v7zm4 0h-2V7h2v10zm4 0h-2v-4h2v4z\"/>\n",
              "    </g>\n",
              "</svg>\n",
              "  </button>\n",
              "\n",
              "<style>\n",
              "  .colab-df-quickchart {\n",
              "      --bg-color: #E8F0FE;\n",
              "      --fill-color: #1967D2;\n",
              "      --hover-bg-color: #E2EBFA;\n",
              "      --hover-fill-color: #174EA6;\n",
              "      --disabled-fill-color: #AAA;\n",
              "      --disabled-bg-color: #DDD;\n",
              "  }\n",
              "\n",
              "  [theme=dark] .colab-df-quickchart {\n",
              "      --bg-color: #3B4455;\n",
              "      --fill-color: #D2E3FC;\n",
              "      --hover-bg-color: #434B5C;\n",
              "      --hover-fill-color: #FFFFFF;\n",
              "      --disabled-bg-color: #3B4455;\n",
              "      --disabled-fill-color: #666;\n",
              "  }\n",
              "\n",
              "  .colab-df-quickchart {\n",
              "    background-color: var(--bg-color);\n",
              "    border: none;\n",
              "    border-radius: 50%;\n",
              "    cursor: pointer;\n",
              "    display: none;\n",
              "    fill: var(--fill-color);\n",
              "    height: 32px;\n",
              "    padding: 0;\n",
              "    width: 32px;\n",
              "  }\n",
              "\n",
              "  .colab-df-quickchart:hover {\n",
              "    background-color: var(--hover-bg-color);\n",
              "    box-shadow: 0 1px 2px rgba(60, 64, 67, 0.3), 0 1px 3px 1px rgba(60, 64, 67, 0.15);\n",
              "    fill: var(--button-hover-fill-color);\n",
              "  }\n",
              "\n",
              "  .colab-df-quickchart-complete:disabled,\n",
              "  .colab-df-quickchart-complete:disabled:hover {\n",
              "    background-color: var(--disabled-bg-color);\n",
              "    fill: var(--disabled-fill-color);\n",
              "    box-shadow: none;\n",
              "  }\n",
              "\n",
              "  .colab-df-spinner {\n",
              "    border: 2px solid var(--fill-color);\n",
              "    border-color: transparent;\n",
              "    border-bottom-color: var(--fill-color);\n",
              "    animation:\n",
              "      spin 1s steps(1) infinite;\n",
              "  }\n",
              "\n",
              "  @keyframes spin {\n",
              "    0% {\n",
              "      border-color: transparent;\n",
              "      border-bottom-color: var(--fill-color);\n",
              "      border-left-color: var(--fill-color);\n",
              "    }\n",
              "    20% {\n",
              "      border-color: transparent;\n",
              "      border-left-color: var(--fill-color);\n",
              "      border-top-color: var(--fill-color);\n",
              "    }\n",
              "    30% {\n",
              "      border-color: transparent;\n",
              "      border-left-color: var(--fill-color);\n",
              "      border-top-color: var(--fill-color);\n",
              "      border-right-color: var(--fill-color);\n",
              "    }\n",
              "    40% {\n",
              "      border-color: transparent;\n",
              "      border-right-color: var(--fill-color);\n",
              "      border-top-color: var(--fill-color);\n",
              "    }\n",
              "    60% {\n",
              "      border-color: transparent;\n",
              "      border-right-color: var(--fill-color);\n",
              "    }\n",
              "    80% {\n",
              "      border-color: transparent;\n",
              "      border-right-color: var(--fill-color);\n",
              "      border-bottom-color: var(--fill-color);\n",
              "    }\n",
              "    90% {\n",
              "      border-color: transparent;\n",
              "      border-bottom-color: var(--fill-color);\n",
              "    }\n",
              "  }\n",
              "</style>\n",
              "\n",
              "  <script>\n",
              "    async function quickchart(key) {\n",
              "      const quickchartButtonEl =\n",
              "        document.querySelector('#' + key + ' button');\n",
              "      quickchartButtonEl.disabled = true;  // To prevent multiple clicks.\n",
              "      quickchartButtonEl.classList.add('colab-df-spinner');\n",
              "      try {\n",
              "        const charts = await google.colab.kernel.invokeFunction(\n",
              "            'suggestCharts', [key], {});\n",
              "      } catch (error) {\n",
              "        console.error('Error during call to suggestCharts:', error);\n",
              "      }\n",
              "      quickchartButtonEl.classList.remove('colab-df-spinner');\n",
              "      quickchartButtonEl.classList.add('colab-df-quickchart-complete');\n",
              "    }\n",
              "    (() => {\n",
              "      let quickchartButtonEl =\n",
              "        document.querySelector('#df-e61dc98f-8278-44b1-9072-06fe115fcc51 button');\n",
              "      quickchartButtonEl.style.display =\n",
              "        google.colab.kernel.accessAllowed ? 'block' : 'none';\n",
              "    })();\n",
              "  </script>\n",
              "</div>\n",
              "\n",
              "    </div>\n",
              "  </div>\n"
            ],
            "application/vnd.google.colaboratory.intrinsic+json": {
              "type": "dataframe",
              "variable_name": "df"
            }
          },
          "metadata": {},
          "execution_count": 9
        }
      ]
    },
    {
      "cell_type": "markdown",
      "source": [
        "\n",
        "\n",
        "---\n",
        "\n"
      ],
      "metadata": {
        "id": "mRGPkTnh_vF6"
      }
    },
    {
      "cell_type": "markdown",
      "source": [
        "Após uma comparação das colunas onlineorderflag, na qual indica que uma compra foi feita de maneira online quando seu campo é TRUE, e a coluna store_name, concluí-se que os nomes nulos na coluna store_name são de compras online. A partir dessa conclusão, optou-se por substituir os valores nulos dessa coluna por \"e-commerce\"."
      ],
      "metadata": {
        "id": "LEucX7Ys-Av8"
      }
    },
    {
      "cell_type": "markdown",
      "source": [
        "### **2.2. Coluna de data**\n",
        "\n"
      ],
      "metadata": {
        "id": "vtgdOtpTB4g4"
      }
    },
    {
      "cell_type": "code",
      "source": [
        "df.info()"
      ],
      "metadata": {
        "colab": {
          "base_uri": "https://localhost:8080/"
        },
        "id": "vsKmuJh6CRYv",
        "outputId": "b3dd0f20-7206-4fd6-9598-cae9a927d88e"
      },
      "execution_count": 10,
      "outputs": [
        {
          "output_type": "stream",
          "name": "stdout",
          "text": [
            "<class 'pandas.core.frame.DataFrame'>\n",
            "RangeIndex: 121317 entries, 0 to 121316\n",
            "Data columns (total 17 columns):\n",
            " #   Column              Non-Null Count   Dtype  \n",
            "---  ------              --------------   -----  \n",
            " 0   customerid          121317 non-null  int64  \n",
            " 1   businessentityid    60919 non-null   float64\n",
            " 2   store_name          121317 non-null  object \n",
            " 3   salesorderid        121317 non-null  int64  \n",
            " 4   onlineorderflag     121317 non-null  bool   \n",
            " 5   salesorderdetailid  121317 non-null  int64  \n",
            " 6   orderqty            121317 non-null  int64  \n",
            " 7   unitprice           121317 non-null  float64\n",
            " 8   category_name       121317 non-null  object \n",
            " 9   orderdate           121317 non-null  object \n",
            " 10  unitpricediscount   121317 non-null  float64\n",
            " 11  productid           121317 non-null  int64  \n",
            " 12  product_name        121317 non-null  object \n",
            " 13  stateprovincecode   121317 non-null  object \n",
            " 14  state_name          121317 non-null  object \n",
            " 15  country_name        121317 non-null  object \n",
            " 16  totaldue            121317 non-null  float64\n",
            "dtypes: bool(1), float64(4), int64(5), object(7)\n",
            "memory usage: 14.9+ MB\n"
          ]
        }
      ]
    },
    {
      "cell_type": "code",
      "source": [
        "df = pd.DataFrame(df)\n",
        "\n",
        "df['orderdate'] = pd.to_datetime(df['orderdate'])\n",
        "\n",
        "df['ano_mes'] = df['orderdate'].dt.strftime('%Y-%m')"
      ],
      "metadata": {
        "id": "WoDBjsC6BM8h"
      },
      "execution_count": 11,
      "outputs": []
    },
    {
      "cell_type": "markdown",
      "source": [
        "A coluna \"orderdate\" não estava no formato correto, ou seja, o datetime. Para que a análise seja mais eficiente, mudou-se o tipo de dado dessa coluna e criou-se uma nova coluna isolando apenas o mês e o ano, pois a análise futura será focada nesse intervalo de tempo."
      ],
      "metadata": {
        "id": "L6RN7HgECHHY"
      }
    },
    {
      "cell_type": "markdown",
      "source": [
        "## **3. Modelagem**"
      ],
      "metadata": {
        "id": "6YBTYDc3mHv_"
      }
    },
    {
      "cell_type": "code",
      "source": [
        "df['ano_mes'] = df['orderdate'].dt.to_period('M')\n",
        "\n",
        "df[\"total\"] = df[\"orderqty\"] * df[\"unitprice\"]"
      ],
      "metadata": {
        "id": "sbZKMU6emHfl"
      },
      "execution_count": 12,
      "outputs": []
    },
    {
      "cell_type": "code",
      "source": [
        "# Agrupar o valor da venda por mês\n",
        "df = df.groupby('ano_mes')['orderqty'].sum().reset_index()\n",
        "df['ano_mes'] = df['ano_mes'].dt.to_timestamp()"
      ],
      "metadata": {
        "id": "FCjAaE3umrZt"
      },
      "execution_count": 13,
      "outputs": []
    },
    {
      "cell_type": "markdown",
      "source": [
        "Esse bloco redefine o índice do DataFrame com o valor 'total', transforma o índice em uma coluna chamada 'unique_id', e reinicia o índice para ser numérico novamente."
      ],
      "metadata": {
        "id": "ExhU4Lz9nP0t"
      }
    },
    {
      "cell_type": "code",
      "source": [
        "df.index = ['total'] * len(df.index)\n",
        "df = df.reset_index()\n",
        "df.rename(columns={'index': 'unique_id'}, inplace=True)\n"
      ],
      "metadata": {
        "id": "2QLF4tjd3_xs"
      },
      "execution_count": 14,
      "outputs": []
    },
    {
      "cell_type": "code",
      "source": [
        "# TRAIN TEST SPLIT\n",
        "# Separa treino e teste (últimos 3 meses para teste)\n",
        "venda_mensal_train = df.drop(index = df.index[-3:])\n",
        "venda_mensal_test = df.tail(3)\n",
        "\n",
        "df.head(3)"
      ],
      "metadata": {
        "colab": {
          "base_uri": "https://localhost:8080/",
          "height": 143
        },
        "id": "iOEpyS4RnV-u",
        "outputId": "088ae8e8-8553-4d1f-cd62-822a70f4bead"
      },
      "execution_count": 15,
      "outputs": [
        {
          "output_type": "execute_result",
          "data": {
            "text/plain": [
              "  unique_id    ano_mes  orderqty\n",
              "0     total 2011-05-01       825\n",
              "1     total 2011-06-01       141\n",
              "2     total 2011-07-01      2209"
            ],
            "text/html": [
              "\n",
              "  <div id=\"df-3a189169-12ed-4000-b53e-6216fbd28204\" class=\"colab-df-container\">\n",
              "    <div>\n",
              "<style scoped>\n",
              "    .dataframe tbody tr th:only-of-type {\n",
              "        vertical-align: middle;\n",
              "    }\n",
              "\n",
              "    .dataframe tbody tr th {\n",
              "        vertical-align: top;\n",
              "    }\n",
              "\n",
              "    .dataframe thead th {\n",
              "        text-align: right;\n",
              "    }\n",
              "</style>\n",
              "<table border=\"1\" class=\"dataframe\">\n",
              "  <thead>\n",
              "    <tr style=\"text-align: right;\">\n",
              "      <th></th>\n",
              "      <th>unique_id</th>\n",
              "      <th>ano_mes</th>\n",
              "      <th>orderqty</th>\n",
              "    </tr>\n",
              "  </thead>\n",
              "  <tbody>\n",
              "    <tr>\n",
              "      <th>0</th>\n",
              "      <td>total</td>\n",
              "      <td>2011-05-01</td>\n",
              "      <td>825</td>\n",
              "    </tr>\n",
              "    <tr>\n",
              "      <th>1</th>\n",
              "      <td>total</td>\n",
              "      <td>2011-06-01</td>\n",
              "      <td>141</td>\n",
              "    </tr>\n",
              "    <tr>\n",
              "      <th>2</th>\n",
              "      <td>total</td>\n",
              "      <td>2011-07-01</td>\n",
              "      <td>2209</td>\n",
              "    </tr>\n",
              "  </tbody>\n",
              "</table>\n",
              "</div>\n",
              "    <div class=\"colab-df-buttons\">\n",
              "\n",
              "  <div class=\"colab-df-container\">\n",
              "    <button class=\"colab-df-convert\" onclick=\"convertToInteractive('df-3a189169-12ed-4000-b53e-6216fbd28204')\"\n",
              "            title=\"Convert this dataframe to an interactive table.\"\n",
              "            style=\"display:none;\">\n",
              "\n",
              "  <svg xmlns=\"http://www.w3.org/2000/svg\" height=\"24px\" viewBox=\"0 -960 960 960\">\n",
              "    <path d=\"M120-120v-720h720v720H120Zm60-500h600v-160H180v160Zm220 220h160v-160H400v160Zm0 220h160v-160H400v160ZM180-400h160v-160H180v160Zm440 0h160v-160H620v160ZM180-180h160v-160H180v160Zm440 0h160v-160H620v160Z\"/>\n",
              "  </svg>\n",
              "    </button>\n",
              "\n",
              "  <style>\n",
              "    .colab-df-container {\n",
              "      display:flex;\n",
              "      gap: 12px;\n",
              "    }\n",
              "\n",
              "    .colab-df-convert {\n",
              "      background-color: #E8F0FE;\n",
              "      border: none;\n",
              "      border-radius: 50%;\n",
              "      cursor: pointer;\n",
              "      display: none;\n",
              "      fill: #1967D2;\n",
              "      height: 32px;\n",
              "      padding: 0 0 0 0;\n",
              "      width: 32px;\n",
              "    }\n",
              "\n",
              "    .colab-df-convert:hover {\n",
              "      background-color: #E2EBFA;\n",
              "      box-shadow: 0px 1px 2px rgba(60, 64, 67, 0.3), 0px 1px 3px 1px rgba(60, 64, 67, 0.15);\n",
              "      fill: #174EA6;\n",
              "    }\n",
              "\n",
              "    .colab-df-buttons div {\n",
              "      margin-bottom: 4px;\n",
              "    }\n",
              "\n",
              "    [theme=dark] .colab-df-convert {\n",
              "      background-color: #3B4455;\n",
              "      fill: #D2E3FC;\n",
              "    }\n",
              "\n",
              "    [theme=dark] .colab-df-convert:hover {\n",
              "      background-color: #434B5C;\n",
              "      box-shadow: 0px 1px 3px 1px rgba(0, 0, 0, 0.15);\n",
              "      filter: drop-shadow(0px 1px 2px rgba(0, 0, 0, 0.3));\n",
              "      fill: #FFFFFF;\n",
              "    }\n",
              "  </style>\n",
              "\n",
              "    <script>\n",
              "      const buttonEl =\n",
              "        document.querySelector('#df-3a189169-12ed-4000-b53e-6216fbd28204 button.colab-df-convert');\n",
              "      buttonEl.style.display =\n",
              "        google.colab.kernel.accessAllowed ? 'block' : 'none';\n",
              "\n",
              "      async function convertToInteractive(key) {\n",
              "        const element = document.querySelector('#df-3a189169-12ed-4000-b53e-6216fbd28204');\n",
              "        const dataTable =\n",
              "          await google.colab.kernel.invokeFunction('convertToInteractive',\n",
              "                                                    [key], {});\n",
              "        if (!dataTable) return;\n",
              "\n",
              "        const docLinkHtml = 'Like what you see? Visit the ' +\n",
              "          '<a target=\"_blank\" href=https://colab.research.google.com/notebooks/data_table.ipynb>data table notebook</a>'\n",
              "          + ' to learn more about interactive tables.';\n",
              "        element.innerHTML = '';\n",
              "        dataTable['output_type'] = 'display_data';\n",
              "        await google.colab.output.renderOutput(dataTable, element);\n",
              "        const docLink = document.createElement('div');\n",
              "        docLink.innerHTML = docLinkHtml;\n",
              "        element.appendChild(docLink);\n",
              "      }\n",
              "    </script>\n",
              "  </div>\n",
              "\n",
              "\n",
              "<div id=\"df-1302e762-279c-4667-b705-6a3366d52c54\">\n",
              "  <button class=\"colab-df-quickchart\" onclick=\"quickchart('df-1302e762-279c-4667-b705-6a3366d52c54')\"\n",
              "            title=\"Suggest charts\"\n",
              "            style=\"display:none;\">\n",
              "\n",
              "<svg xmlns=\"http://www.w3.org/2000/svg\" height=\"24px\"viewBox=\"0 0 24 24\"\n",
              "     width=\"24px\">\n",
              "    <g>\n",
              "        <path d=\"M19 3H5c-1.1 0-2 .9-2 2v14c0 1.1.9 2 2 2h14c1.1 0 2-.9 2-2V5c0-1.1-.9-2-2-2zM9 17H7v-7h2v7zm4 0h-2V7h2v10zm4 0h-2v-4h2v4z\"/>\n",
              "    </g>\n",
              "</svg>\n",
              "  </button>\n",
              "\n",
              "<style>\n",
              "  .colab-df-quickchart {\n",
              "      --bg-color: #E8F0FE;\n",
              "      --fill-color: #1967D2;\n",
              "      --hover-bg-color: #E2EBFA;\n",
              "      --hover-fill-color: #174EA6;\n",
              "      --disabled-fill-color: #AAA;\n",
              "      --disabled-bg-color: #DDD;\n",
              "  }\n",
              "\n",
              "  [theme=dark] .colab-df-quickchart {\n",
              "      --bg-color: #3B4455;\n",
              "      --fill-color: #D2E3FC;\n",
              "      --hover-bg-color: #434B5C;\n",
              "      --hover-fill-color: #FFFFFF;\n",
              "      --disabled-bg-color: #3B4455;\n",
              "      --disabled-fill-color: #666;\n",
              "  }\n",
              "\n",
              "  .colab-df-quickchart {\n",
              "    background-color: var(--bg-color);\n",
              "    border: none;\n",
              "    border-radius: 50%;\n",
              "    cursor: pointer;\n",
              "    display: none;\n",
              "    fill: var(--fill-color);\n",
              "    height: 32px;\n",
              "    padding: 0;\n",
              "    width: 32px;\n",
              "  }\n",
              "\n",
              "  .colab-df-quickchart:hover {\n",
              "    background-color: var(--hover-bg-color);\n",
              "    box-shadow: 0 1px 2px rgba(60, 64, 67, 0.3), 0 1px 3px 1px rgba(60, 64, 67, 0.15);\n",
              "    fill: var(--button-hover-fill-color);\n",
              "  }\n",
              "\n",
              "  .colab-df-quickchart-complete:disabled,\n",
              "  .colab-df-quickchart-complete:disabled:hover {\n",
              "    background-color: var(--disabled-bg-color);\n",
              "    fill: var(--disabled-fill-color);\n",
              "    box-shadow: none;\n",
              "  }\n",
              "\n",
              "  .colab-df-spinner {\n",
              "    border: 2px solid var(--fill-color);\n",
              "    border-color: transparent;\n",
              "    border-bottom-color: var(--fill-color);\n",
              "    animation:\n",
              "      spin 1s steps(1) infinite;\n",
              "  }\n",
              "\n",
              "  @keyframes spin {\n",
              "    0% {\n",
              "      border-color: transparent;\n",
              "      border-bottom-color: var(--fill-color);\n",
              "      border-left-color: var(--fill-color);\n",
              "    }\n",
              "    20% {\n",
              "      border-color: transparent;\n",
              "      border-left-color: var(--fill-color);\n",
              "      border-top-color: var(--fill-color);\n",
              "    }\n",
              "    30% {\n",
              "      border-color: transparent;\n",
              "      border-left-color: var(--fill-color);\n",
              "      border-top-color: var(--fill-color);\n",
              "      border-right-color: var(--fill-color);\n",
              "    }\n",
              "    40% {\n",
              "      border-color: transparent;\n",
              "      border-right-color: var(--fill-color);\n",
              "      border-top-color: var(--fill-color);\n",
              "    }\n",
              "    60% {\n",
              "      border-color: transparent;\n",
              "      border-right-color: var(--fill-color);\n",
              "    }\n",
              "    80% {\n",
              "      border-color: transparent;\n",
              "      border-right-color: var(--fill-color);\n",
              "      border-bottom-color: var(--fill-color);\n",
              "    }\n",
              "    90% {\n",
              "      border-color: transparent;\n",
              "      border-bottom-color: var(--fill-color);\n",
              "    }\n",
              "  }\n",
              "</style>\n",
              "\n",
              "  <script>\n",
              "    async function quickchart(key) {\n",
              "      const quickchartButtonEl =\n",
              "        document.querySelector('#' + key + ' button');\n",
              "      quickchartButtonEl.disabled = true;  // To prevent multiple clicks.\n",
              "      quickchartButtonEl.classList.add('colab-df-spinner');\n",
              "      try {\n",
              "        const charts = await google.colab.kernel.invokeFunction(\n",
              "            'suggestCharts', [key], {});\n",
              "      } catch (error) {\n",
              "        console.error('Error during call to suggestCharts:', error);\n",
              "      }\n",
              "      quickchartButtonEl.classList.remove('colab-df-spinner');\n",
              "      quickchartButtonEl.classList.add('colab-df-quickchart-complete');\n",
              "    }\n",
              "    (() => {\n",
              "      let quickchartButtonEl =\n",
              "        document.querySelector('#df-1302e762-279c-4667-b705-6a3366d52c54 button');\n",
              "      quickchartButtonEl.style.display =\n",
              "        google.colab.kernel.accessAllowed ? 'block' : 'none';\n",
              "    })();\n",
              "  </script>\n",
              "</div>\n",
              "\n",
              "    </div>\n",
              "  </div>\n"
            ],
            "application/vnd.google.colaboratory.intrinsic+json": {
              "type": "dataframe",
              "variable_name": "df",
              "summary": "{\n  \"name\": \"df\",\n  \"rows\": 38,\n  \"fields\": [\n    {\n      \"column\": \"unique_id\",\n      \"properties\": {\n        \"dtype\": \"category\",\n        \"num_unique_values\": 1,\n        \"samples\": [\n          \"total\"\n        ],\n        \"semantic_type\": \"\",\n        \"description\": \"\"\n      }\n    },\n    {\n      \"column\": \"ano_mes\",\n      \"properties\": {\n        \"dtype\": \"date\",\n        \"min\": \"2011-05-01 00:00:00\",\n        \"max\": \"2014-06-01 00:00:00\",\n        \"num_unique_values\": 38,\n        \"samples\": [\n          \"2014-02-01 00:00:00\"\n        ],\n        \"semantic_type\": \"\",\n        \"description\": \"\"\n      }\n    },\n    {\n      \"column\": \"orderqty\",\n      \"properties\": {\n        \"dtype\": \"number\",\n        \"std\": 5601,\n        \"min\": 141,\n        \"max\": 22582,\n        \"num_unique_values\": 38,\n        \"samples\": [\n          4287\n        ],\n        \"semantic_type\": \"\",\n        \"description\": \"\"\n      }\n    }\n  ]\n}"
            }
          },
          "metadata": {},
          "execution_count": 15
        }
      ]
    },
    {
      "cell_type": "markdown",
      "source": [
        "## 4. Advanced Analytics\n"
      ],
      "metadata": {
        "id": "jJtdS-QHoo9s"
      }
    },
    {
      "cell_type": "markdown",
      "source": [
        "## Questão 8\n",
        "**A fim de ajustar a distribuição de produtos e ter uma melhor estimativa sobre a necessidade de compra de matéria prima, faça uma previsão sobre a demanda dos próximos 3 meses de cada produto em cada loja. Além disso, aponte se há ou não a presença de sazonalidade em algum produto de sua escolha.**"
      ],
      "metadata": {
        "id": "gviZPSTdogna"
      }
    },
    {
      "cell_type": "markdown",
      "source": [
        "### Previsão usando statsmodels"
      ],
      "metadata": {
        "id": "gF0y4yRSovp1"
      }
    },
    {
      "cell_type": "markdown",
      "source": [
        "Para identificar padrões sazonais e fazer previsões baseadas nesses padrões, foi escolhido o modelo SARIMA.\n",
        "\n",
        "\n",
        "\n"
      ],
      "metadata": {
        "id": "-x0d5Pv4ofZT"
      }
    },
    {
      "cell_type": "markdown",
      "source": [
        "O modelo SARIMA (Seasonal AutoRegressive Integrated Moving Average) é implementado no Statsmodels na classe SARIMAX. Essa implementação permite modelar dados com sazonalidade, tendências e autocorrelações."
      ],
      "metadata": {
        "id": "Eg17P4F2rs5J"
      }
    },
    {
      "cell_type": "markdown",
      "source": [
        "O código irá prever a demanda mensal (coluna orderqty) com consideração de sazonalidade. A configuração de sazonalidade é mensal (seasonal_order=(1, 1, 1, 12)), indicando que o padrão se repete a cada 12 meses."
      ],
      "metadata": {
        "id": "XI0_ioKZrzLY"
      }
    },
    {
      "cell_type": "code",
      "source": [
        "# ARIMA ou SARIMA\n",
        "\n",
        "# Ajusta o modelo SARIMA\n",
        "sarima_model = SARIMAX(\n",
        "    venda_mensal_train['orderqty'],\n",
        "    order=(1, 1, 1),\n",
        "    seasonal_order=(1, 1, 1, 12)\n",
        ").fit()"
      ],
      "metadata": {
        "id": "zmwm5vK-4ZnC"
      },
      "execution_count": 16,
      "outputs": []
    },
    {
      "cell_type": "code",
      "source": [
        "# Previsão para os próximos 3 meses\n",
        "sarima_forecast = sarima_model.forecast(steps=3)\n",
        "print(\"Previsão com SARIMA:\", sarima_forecast)\n",
        "\n",
        "# Converte a previsão em uma série temporal\n",
        "sarima_forecast_ts = pd.Series(sarima_forecast, index=venda_mensal_test.index)"
      ],
      "metadata": {
        "colab": {
          "base_uri": "https://localhost:8080/"
        },
        "id": "7O74IPjtpXLy",
        "outputId": "5efa1968-b0ee-4d6c-b6c4-2ae78ee76b5c"
      },
      "execution_count": 17,
      "outputs": [
        {
          "output_type": "stream",
          "name": "stdout",
          "text": [
            "Previsão com SARIMA: 35   11,279.20\n",
            "36   17,017.57\n",
            "37   23,403.20\n",
            "Name: predicted_mean, dtype: float64\n"
          ]
        }
      ]
    },
    {
      "cell_type": "markdown",
      "source": [
        "A previsão feita com o modelo SARIMA apresenta os valores previstos de demanda (orderqty) para os próximos três meses:\n",
        "\n",
        "Mês 35: 11.279,20\n",
        "\n",
        "Mês 36: 17.017,57\n",
        "\n",
        "Mês 37: 23.403,20\n",
        "\n",
        "\n",
        "\n",
        "---\n",
        "\n"
      ],
      "metadata": {
        "id": "wpo4mSzdrKLb"
      }
    },
    {
      "cell_type": "code",
      "source": [
        "plt.figure(figsize=(10, 4))\n",
        "plt.plot(venda_mensal_train['ano_mes'], venda_mensal_train['orderqty'], label='Histórico (Treino)')\n",
        "plt.plot(venda_mensal_test['ano_mes'], venda_mensal_test['orderqty'], label='Histórico (Teste)')\n",
        "plt.plot(venda_mensal_test['ano_mes'], sarima_forecast_ts, label='Previsão SARIMA', color='red')\n",
        "plt.legend()\n",
        "plt.show()"
      ],
      "metadata": {
        "colab": {
          "base_uri": "https://localhost:8080/",
          "height": 368
        },
        "id": "WVUO6JK2qFOb",
        "outputId": "49c4684c-7b48-4374-9846-0fb7f87c93bd"
      },
      "execution_count": 18,
      "outputs": [
        {
          "output_type": "display_data",
          "data": {
            "text/plain": [
              "<Figure size 1000x400 with 1 Axes>"
            ],
            "image/png": "[encoded data removed]"
          },
          "metadata": {}
        }
      ]
    },
    {
      "cell_type": "code",
      "source": [
        "# Zoom na análise\n",
        "plt.figure(figsize=(10, 4))\n",
        "plt.plot(venda_mensal_train['ano_mes'], venda_mensal_train['orderqty'], label='Histórico (Treino)')\n",
        "plt.plot(venda_mensal_test['ano_mes'], venda_mensal_test['orderqty'], label='Histórico (Teste)')\n",
        "plt.plot(venda_mensal_test['ano_mes'], sarima_forecast_ts, label='Previsão SARIMA', color='red')\n",
        "plt.legend()\n",
        "\n",
        "plt.xlim(venda_mensal_train['ano_mes'].iloc[-5], venda_mensal_test['ano_mes'].iloc[-1])\n",
        "\n",
        "plt.show()"
      ],
      "metadata": {
        "colab": {
          "base_uri": "https://localhost:8080/",
          "height": 368
        },
        "id": "YqykPJ4tqMdK",
        "outputId": "055847b2-b252-421d-913f-2b70078c8a76"
      },
      "execution_count": 19,
      "outputs": [
        {
          "output_type": "display_data",
          "data": {
            "text/plain": [
              "<Figure size 1000x400 with 1 Axes>"
            ],
            "image/png": "[encoded data removed]"
          },
          "metadata": {}
        }
      ]
    },
    {
      "cell_type": "markdown",
      "source": [
        "### Previsão usando statsforecast e AutoArima"
      ],
      "metadata": {
        "id": "W3LP7_65qyRZ"
      }
    },
    {
      "cell_type": "markdown",
      "source": [
        "O StatsForecast fornece o modelo AutoARIMA, que ajusta automaticamente os parâmetros de ARIMA/SARIMA (como p, d, q e os parâmetros sazonais) com base nos dados, simplificando o processo de configuração manual."
      ],
      "metadata": {
        "id": "3AAicnxMrmrA"
      }
    },
    {
      "cell_type": "code",
      "source": [
        "# Inicializando o StatsForecast object with AutoARIMA e modelo Naive\n",
        "fcst = StatsForecast(\n",
        "    models=[AutoARIMA(season_length=12), Naive()],\n",
        "    freq='MS',\n",
        "    n_jobs=-1,\n",
        ")\n",
        "\n",
        "# Performando a previsão no treino num h de 3 meses\n",
        "Y_hat_df = fcst.forecast(\n",
        "    df=venda_mensal_train,\n",
        "    h=3,\n",
        "    target_col='orderqty',\n",
        "    time_col='ano_mes'\n",
        ")\n"
      ],
      "metadata": {
        "id": "Z7WmmOE24oMk"
      },
      "execution_count": 20,
      "outputs": []
    },
    {
      "cell_type": "code",
      "source": [
        "plt.figure(figsize=(10, 4))\n",
        "plt.plot(venda_mensal_train['ano_mes'], venda_mensal_train['orderqty'], label='Histórico (Treino)')\n",
        "plt.plot(venda_mensal_test['ano_mes'], venda_mensal_test['orderqty'], label='Histórico (Teste)')\n",
        "plt.plot(Y_hat_df['ano_mes'], Y_hat_df['AutoARIMA'], label='Previsão AutoARIMA', color='red')\n",
        "plt.plot(Y_hat_df['ano_mes'], Y_hat_df['Naive'], label='Previsão Naive', color='black')\n",
        "plt.legend()\n",
        "\n",
        "# Limita a visualização no periodo que está no iloc\n",
        "plt.xlim(venda_mensal_train['ano_mes'].iloc[-5], venda_mensal_test['ano_mes'].iloc[-1])\n",
        "\n",
        "plt.show()"
      ],
      "metadata": {
        "colab": {
          "base_uri": "https://localhost:8080/",
          "height": 368
        },
        "id": "nt7VPqOs4pT6",
        "outputId": "d1b05b9f-a425-4d9c-a1da-bec89e3d3885"
      },
      "execution_count": 21,
      "outputs": [
        {
          "output_type": "display_data",
          "data": {
            "text/plain": [
              "<Figure size 1000x400 with 1 Axes>"
            ],
            "image/png": "[encoded data removed]"
          },
          "metadata": {}
        }
      ]
    },
    {
      "cell_type": "code",
      "source": [
        "\n",
        "# Junta os dados de previsão (Y_hat_df) com os dados reais de teste (venda_mensal_test) em uma única tabela (eval_df),\n",
        "# usando as colunas unique_id (identificação do produto ou loja) e ano_mes (data mensal) como chave.\n",
        "\n",
        "# compara diretamente as previsões (coluna AutoARIMA) com os valores reais (orderqty).\n",
        "eval_df = Y_hat_df.merge(venda_mensal_test, on=['unique_id', 'ano_mes'])\n",
        "eval_df\n",
        "\n",
        "# Cálculo das métricas de erro\n",
        "mae = mean_absolute_error(eval_df['orderqty'], eval_df['AutoARIMA'])\n",
        "mse = mean_squared_error(eval_df['orderqty'], eval_df['AutoARIMA'])\n",
        "rmse = mse ** 0.5\n",
        "mape = (abs(eval_df['orderqty'] - eval_df['AutoARIMA']) / eval_df['orderqty']).mean() * 100\n",
        "\n",
        "# Display metrics\n",
        "metrics = {\n",
        "    \"MAE\": mae,\n",
        "    \"MSE\": mse,\n",
        "    \"RMSE\": rmse,\n",
        "    \"MAPE (%)\": mape,\n",
        "}\n",
        "\n",
        "for metric, value in metrics.items():\n",
        "    print(f\"{metric}: {value:.2f}\")"
      ],
      "metadata": {
        "colab": {
          "base_uri": "https://localhost:8080/"
        },
        "id": "P47wHClK4pGr",
        "outputId": "59e1332a-f45c-4fb5-83b4-ab7be7046d54"
      },
      "execution_count": 22,
      "outputs": [
        {
          "output_type": "stream",
          "name": "stdout",
          "text": [
            "MAE: 8811.30\n",
            "MSE: 142434496.00\n",
            "RMSE: 11934.59\n",
            "MAPE (%): 348.50\n"
          ]
        }
      ]
    },
    {
      "cell_type": "markdown",
      "source": [
        "- MAE (Mean Absolute Error):\n",
        "\n",
        "Mede o erro médio absoluto entre os valores previstos e os reais.\n",
        "\n",
        "Quanto menor, melhor. Representa o erro médio absoluto que você pode esperar nas previsões.\n",
        "\n",
        "- MSE (Mean Squared Error):\n",
        "\n",
        "Mede o erro médio ao quadrado, penalizando erros maiores.\n",
        "\n",
        "Quanto menor, melhor. Sensível a erros extremos, ou seja, previsões muito distantes do valor real.\n",
        "\n",
        "- RMSE (Root Mean Squared Error):\n",
        "\n",
        "É a raiz quadrada do MSE.\n",
        "\n",
        "Interpretação: Indica o tamanho médio do erro das previsões. Menores valores indicam melhores previsões.\n",
        "\n",
        "- MAPE (Mean Absolute Percentage Error):\n",
        "\n",
        "Mede o erro percentual médio entre os valores reais e previstos. É expresso em porcentagem.\n",
        "\n",
        "Valores menores significam que as previsões estão mais próximas dos valores reais, considerando proporcionalidade."
      ],
      "metadata": {
        "id": "YHKSjtrZvbDF"
      }
    },
    {
      "cell_type": "markdown",
      "source": [
        "**Análise dos resultados**\n",
        "- MAE: 8811.30\n",
        "O modelo tem um erro médio absoluto de aproximadamente 8.811 pedidos por mês.\n",
        "\n",
        "- MSE: 142,434,496.00\n",
        "O número alto indica que há grandes discrepâncias entre os valores previstos e reais em algumas observações.\n",
        "\n",
        "- RMSE: 11,934.59\n",
        "Em média, o erro das previsões é de quase 11.935 pedidos por mês.\n",
        "\n",
        "- MAPE: 348.50%\n",
        "O erro percentual médio é de 348,5%, o que é extremamente alto. Isso significa que, em média, as previsões estão mais de 3 vezes distantes dos valores reais.\n",
        "\n",
        "Essas métricas mostram que o modelo está performando muito mal, ou seja, não deve ser usado para uma previsão de demanda."
      ],
      "metadata": {
        "id": "itE3G_1DvxGk"
      }
    },
    {
      "cell_type": "markdown",
      "source": [
        "## Questão 9\n",
        "\n",
        "**Seria possível resolver este problema através de uma abordagem utilizando modelos de regressão? Se sim, qual demonstra melhor resultado? Justifique utilizando métricas de avaliação.**\n",
        "\n"
      ],
      "metadata": {
        "id": "RtpHGGGzxMOd"
      }
    },
    {
      "cell_type": "markdown",
      "source": [
        "### Previsão usando mlforecast e LinearRegression"
      ],
      "metadata": {
        "id": "jDd7UtU55Ril"
      }
    },
    {
      "cell_type": "markdown",
      "source": [
        "O código abaixo utiliza a biblioteca StatsForecast para criar um modelo de previsão baseado em Machine Learning (Regressão Linear)"
      ],
      "metadata": {
        "id": "QTuIrvDAxwAc"
      }
    },
    {
      "cell_type": "code",
      "source": [
        "fcst = MLForecast(models=[LinearRegression(),], freq='MS', lags=[1,2,12])\n",
        "\n",
        "fcst.fit(\n",
        "    venda_mensal_train,\n",
        "    fitted=True,\n",
        "    prediction_intervals=PredictionIntervals(n_windows=4, h=3),\n",
        "    target_col='orderqty',\n",
        "    time_col='ano_mes',\n",
        ")\n",
        "\n",
        "# level = np.arange(0, 100, 2)\n",
        "Y_hat_df = fcst.predict(3)\n",
        "\n",
        "insample_df = fcst.forecast_fitted_values()"
      ],
      "metadata": {
        "id": "U_Jv99ef5V44"
      },
      "execution_count": 23,
      "outputs": []
    },
    {
      "cell_type": "code",
      "source": [
        "plt.figure(figsize=(10, 4))\n",
        "plt.plot(venda_mensal_train['ano_mes'], venda_mensal_train['orderqty'], label='Histórico (Treino)')\n",
        "plt.plot(venda_mensal_test['ano_mes'], venda_mensal_test['orderqty'], label='Histórico (Teste)')\n",
        "plt.plot(Y_hat_df['ano_mes'], Y_hat_df['LinearRegression'], label='Previsão LinearRegression (teste)', color='red')\n",
        "plt.plot(insample_df['ano_mes'], insample_df['LinearRegression'], label='Previsão LinearRegression (treino)', color='black')\n",
        "plt.legend()\n",
        "\n",
        "# plt.xlim(venda_mensal_train['ano_mes'].iloc[-5], venda_mensal_test['ano_mes'].iloc[-1])\n",
        "\n",
        "plt.show()"
      ],
      "metadata": {
        "colab": {
          "base_uri": "https://localhost:8080/",
          "height": 368
        },
        "id": "U3ESFMew5VtX",
        "outputId": "7b30e5fe-1417-4a1d-8564-8a06cd01efbb"
      },
      "execution_count": 24,
      "outputs": [
        {
          "output_type": "display_data",
          "data": {
            "text/plain": [
              "<Figure size 1000x400 with 1 Axes>"
            ],
            "image/png": "[encoded data removed]"
          },
          "metadata": {}
        }
      ]
    },
    {
      "cell_type": "code",
      "source": [
        "eval_df = Y_hat_df.merge(venda_mensal_test, on=['unique_id', 'ano_mes'])\n",
        "\n",
        "mae = mean_absolute_error(eval_df['orderqty'], eval_df['LinearRegression'])\n",
        "mse = mean_squared_error(eval_df['orderqty'], eval_df['LinearRegression'])\n",
        "rmse = mse ** 0.5\n",
        "mape = (abs(eval_df['orderqty'] - eval_df['LinearRegression']) / eval_df['orderqty']).mean() * 100\n",
        "\n",
        "metrics = {\n",
        "    \"MAE\": mae,\n",
        "    \"MSE\": mse,\n",
        "    \"RMSE\": rmse,\n",
        "    \"MAPE (%)\": mape,\n",
        "}\n",
        "\n",
        "for metric, value in metrics.items():\n",
        "    print(f\"{metric}: {value:.2f}\")"
      ],
      "metadata": {
        "colab": {
          "base_uri": "https://localhost:8080/"
        },
        "id": "6Fqn6JxV5VZQ",
        "outputId": "ce3d644c-65de-449f-9c8c-ba75c482f00f"
      },
      "execution_count": 25,
      "outputs": [
        {
          "output_type": "stream",
          "name": "stdout",
          "text": [
            "MAE: 9488.62\n",
            "MSE: 156883664.00\n",
            "RMSE: 12525.32\n",
            "MAPE (%): 366.56\n"
          ]
        }
      ]
    },
    {
      "cell_type": "markdown",
      "source": [
        "Essas métricas mostram que o modelo de Regressão Linear não está performando bem para este conjunto de dados.\n",
        "\n",
        "O erro percentual (MAPE) e os valores absolutos de erro (MAE e RMSE) são muito altos. Isso pode indicar que o modelo não está capturando a complexidade ou possíveis padrões não lineares dos dados (como tendências ou sazonalidade)."
      ],
      "metadata": {
        "id": "sFO8VZ7T0P_R"
      }
    },
    {
      "cell_type": "markdown",
      "source": [
        "## Questão 10\n",
        "\n",
        "**Os novos centros de distribuição passaram a ser divididos em províncias nos EUA e em países no resto do mundo. Qual desses grupos apresentou mais crescimento em demanda nos três meses previstos no item 8?**"
      ],
      "metadata": {
        "id": "3n6cKiB70mDR"
      }
    },
    {
      "cell_type": "code",
      "source": [
        "df = pd.read_csv(\"vendas.csv\")\n",
        "\n",
        "df['orderdate'] = pd.to_datetime(df['orderdate'])\n",
        "\n",
        "df['ano_mes'] = df['orderdate'].dt.strftime('%Y-%m')\n",
        "\n",
        "df['is_usa'] = df['country_name'] == 'United States'\n",
        "\n",
        "df['ano_mes'] = df['orderdate'].dt.to_period('M')\n",
        "\n",
        "df[\"total\"] = df[\"orderqty\"] * df[\"unitprice\"]\n",
        "\n",
        "df_usa = df[df['is_usa']].groupby('ano_mes')['orderqty'].sum().reset_index()\n",
        "df_usa['ano_mes'] = df_usa['ano_mes'].dt.to_timestamp()\n",
        "\n",
        "df_non_usa = df[~df['is_usa']].groupby('ano_mes')['orderqty'].sum().reset_index()\n",
        "df_non_usa['ano_mes'] = df_non_usa['ano_mes'].dt.to_timestamp()\n",
        "\n",
        "df_usa.index = ['total'] * len(df_usa.index)\n",
        "df_usa = df_usa.reset_index()\n",
        "df_usa.rename(columns={'index': 'unique_id'}, inplace=True)\n",
        "\n",
        "df_non_usa.index = ['total'] * len(df_non_usa.index)\n",
        "df_non_usa = df_non_usa.reset_index()\n",
        "df_non_usa.rename(columns={'index': 'unique_id'}, inplace=True)"
      ],
      "metadata": {
        "id": "FQSR48a1345v"
      },
      "execution_count": 26,
      "outputs": []
    },
    {
      "cell_type": "code",
      "source": [
        "# TRAIN TEST\n",
        "# Separa treino e teste (últimos 3 meses para teste)\n",
        "non_usa_venda_mensal_train = df_non_usa.drop(index = df_non_usa.index[-3:])\n",
        "non_usa_venda_mensal_test = df_non_usa.tail(3)\n",
        "\n",
        "usa_venda_mensal_train = df_usa.drop(index = df_usa.index[-3:])\n",
        "usa_venda_mensal_test = df_usa.tail(3)"
      ],
      "metadata": {
        "id": "wxFJZ7vQ1mNX"
      },
      "execution_count": 27,
      "outputs": []
    },
    {
      "cell_type": "code",
      "source": [
        "# inicializa o StatsForecast com AutoARIMA e Naive\n",
        "usa_fcst = StatsForecast(models=[AutoARIMA(season_length=12), Naive()], freq='MS', n_jobs=-1)\n",
        "non_usa_fcst = StatsForecast(models=[AutoARIMA(season_length=12), Naive()], freq='MS', n_jobs=-1)\n",
        "\n",
        "\n",
        "# Performando a previsão no treino\n",
        "usa_Y_hat_df = usa_fcst.forecast(df=usa_venda_mensal_train, h=3, target_col='orderqty', time_col='ano_mes')\n",
        "non_usa_Y_hat_df = non_usa_fcst.forecast(df=non_usa_venda_mensal_train, h=3, target_col='orderqty', time_col='ano_mes')"
      ],
      "metadata": {
        "id": "jYQdHnj4A0Ft"
      },
      "execution_count": 28,
      "outputs": []
    },
    {
      "cell_type": "code",
      "source": [
        "fig, axes = plt.subplots(ncols=3, figsize=(12, 4))\n",
        "\n",
        "# Gráfico Estados Unidos\n",
        "axes[0].plot(usa_venda_mensal_train['ano_mes'], usa_venda_mensal_train['orderqty'], label='Histórico (Treino)')\n",
        "axes[0].plot(usa_venda_mensal_test['ano_mes'], usa_venda_mensal_test['orderqty'], label='Histórico (Teste)')\n",
        "axes[0].plot(usa_Y_hat_df['ano_mes'], usa_Y_hat_df['AutoARIMA'], label='Previsão AutoARIMA', color='red')\n",
        "axes[0].plot(usa_Y_hat_df['ano_mes'], usa_Y_hat_df['Naive'], label='Previsão Naive', color='black')\n",
        "axes[0].legend()\n",
        "axes[0].set_xlim(venda_mensal_train['ano_mes'].iloc[-5], venda_mensal_test['ano_mes'].iloc[-1])\n",
        "axes[0].set_title(\"Previsão de demanda dos EUA\")\n",
        "\n",
        "# Gráfico do resto do mundo\n",
        "axes[1].plot(non_usa_venda_mensal_train['ano_mes'], non_usa_venda_mensal_train['orderqty'], label='Histórico (Treino)')\n",
        "axes[1].plot(non_usa_venda_mensal_test['ano_mes'], non_usa_venda_mensal_test['orderqty'], label='Histórico (Teste)')\n",
        "axes[1].plot(non_usa_Y_hat_df['ano_mes'], non_usa_Y_hat_df['AutoARIMA'], label='Previsão AutoARIMA', color='red')\n",
        "axes[1].plot(non_usa_Y_hat_df['ano_mes'], non_usa_Y_hat_df['Naive'], label='Previsão Naive', color='black')\n",
        "axes[1].legend()\n",
        "axes[1].set_xlim(venda_mensal_train['ano_mes'].iloc[-5], venda_mensal_test['ano_mes'].iloc[-1])\n",
        "axes[1].set_title(\"Previsão de demanda do resto do mundo\")\n",
        "\n",
        "# Gráfico de comparação\n",
        "axes[2].plot(usa_Y_hat_df['ano_mes'], usa_Y_hat_df['AutoARIMA'], label='Previsão EUA', color='red')\n",
        "axes[2].plot(non_usa_Y_hat_df['ano_mes'], non_usa_Y_hat_df['AutoARIMA'], label='Previsão ndo resto do mundo', color='blue')\n",
        "axes[2].legend()\n",
        "axes[2].set_xlim(venda_mensal_train['ano_mes'].iloc[-5], venda_mensal_test['ano_mes'].iloc[-1])\n",
        "axes[2].set_title(\"Comparação da previsão\")\n",
        "\n",
        "\n",
        "plt.show()"
      ],
      "metadata": {
        "colab": {
          "base_uri": "https://localhost:8080/",
          "height": 391
        },
        "id": "V_C59R1_BxYX",
        "outputId": "ee58b013-e427-405d-826e-9c119e43f526"
      },
      "execution_count": 29,
      "outputs": [
        {
          "output_type": "display_data",
          "data": {
            "text/plain": [
              "<Figure size 1200x400 with 3 Axes>"
            ],
            "image/png": "[encoded data removed]"
          },
          "metadata": {}
        }
      ]
    },
    {
      "cell_type": "markdown",
      "source": [
        "Pelo gráficos, podemos perceber que a demanda do resto do mundo apresenta maior crescimento que a demanda estadunidense."
      ],
      "metadata": {
        "id": "sN_9dYv4CtWe"
      }
    },
    {
      "cell_type": "markdown",
      "source": [
        "## Questão 11\n",
        "\n",
        "**Um novo fornecedor de luvas, que agora engloba toda a produção mundial, precisa ter uma estimativa de quantos zíperes precisa pedir para os próximos 3 meses. Levando em consideração que são necessários 2 zíperes por par, quantos seriam necessários?**"
      ],
      "metadata": {
        "id": "U_pyo_yg2Mi2"
      }
    },
    {
      "cell_type": "code",
      "source": [
        "df = pd.read_csv(\"vendas.csv\")\n",
        "\n",
        "df['orderdate'] = pd.to_datetime(df['orderdate'])\n",
        "\n",
        "df['ano_mes'] = df['orderdate'].dt.strftime('%Y-%m')\n",
        "\n",
        "# Seleciona apenas as linhas que tem \"Gloves\" = Luvas no product_name\n",
        "df = df[df['product_name'].str.contains('Gloves', case=False, na=False)]\n",
        "\n",
        "df['ano_mes'] = df['orderdate'].dt.to_period('M')\n",
        "\n",
        "df[\"total\"] = df[\"orderqty\"] * df[\"unitprice\"]\n",
        "\n",
        "df = df.groupby('ano_mes')['orderqty'].sum().reset_index()\n",
        "df['ano_mes'] = df['ano_mes'].dt.to_timestamp()\n",
        "\n",
        "df.index = ['total'] * len(df.index)\n",
        "df = df.reset_index()\n",
        "df.rename(columns={'index': 'unique_id'}, inplace=True)"
      ],
      "metadata": {
        "id": "u4inVGtoEGr8"
      },
      "execution_count": 30,
      "outputs": []
    },
    {
      "cell_type": "code",
      "source": [
        "# TRAIN TEST SPLIT\n",
        "# Separar treino e teste (últimos 3 meses para teste)\n",
        "venda_mensal_train = df.drop(index = df.index[-3:])\n",
        "venda_mensal_test = df.tail(3)"
      ],
      "metadata": {
        "id": "Ozihbz0_4csF"
      },
      "execution_count": 31,
      "outputs": []
    },
    {
      "cell_type": "code",
      "source": [
        "# Inicializa o StatsForecast com AutoARIMA e Naive\n",
        "fcst = StatsForecast(\n",
        "    models=[AutoARIMA(season_length=12), Naive()],\n",
        "    freq='MS',\n",
        "    n_jobs=-1,\n",
        ")\n",
        "\n",
        "# Performa a previsão no treino\n",
        "Y_hat_df = fcst.forecast(\n",
        "    df=venda_mensal_train,\n",
        "    h=3,  # Forecast horizon\n",
        "    target_col='orderqty',\n",
        "    time_col='ano_mes'\n",
        ")"
      ],
      "metadata": {
        "id": "ZYJ2IyTGEGpb"
      },
      "execution_count": 32,
      "outputs": []
    },
    {
      "cell_type": "code",
      "source": [
        "plt.figure(figsize=(10, 4))\n",
        "\n",
        "# Plotando as linhas\n",
        "plt.plot(venda_mensal_train['ano_mes'], venda_mensal_train['orderqty'], label='Histórico (Treino)')\n",
        "plt.plot(venda_mensal_test['ano_mes'], venda_mensal_test['orderqty'], label='Histórico (Teste)')\n",
        "plt.plot(Y_hat_df['ano_mes'], Y_hat_df['AutoARIMA'], label='Previsão AutoARIMA', color='red')\n",
        "# plt.plot(Y_hat_df['ano_mes'], Y_hat_df['Naive'], label='Previsão Naive', color='black')\n",
        "\n",
        "# Adicionando os valores em cada ponto das linhas\n",
        "for x, y in zip(venda_mensal_train['ano_mes'], venda_mensal_train['orderqty']):\n",
        "    plt.annotate(f'{y:.0f}', (x, y), textcoords=\"offset points\", xytext=(0, 5), ha='center', fontsize=8)\n",
        "\n",
        "for x, y in zip(venda_mensal_test['ano_mes'], venda_mensal_test['orderqty']):\n",
        "    plt.annotate(f'{y:.0f}', (x, y), textcoords=\"offset points\", xytext=(0, 5), ha='center', fontsize=8)\n",
        "\n",
        "for x, y in zip(Y_hat_df['ano_mes'], Y_hat_df['AutoARIMA']):\n",
        "    plt.annotate(f'{y:.0f}', (x, y), textcoords=\"offset points\", xytext=(0, 5), ha='center', fontsize=8)\n",
        "\n",
        "# Configurações adicionais do gráfico\n",
        "plt.legend()\n",
        "plt.title('Previsão de Luvas')\n",
        "plt.xlim(venda_mensal_train['ano_mes'].iloc[-5], venda_mensal_test['ano_mes'].iloc[-1])\n",
        "\n",
        "plt.show()"
      ],
      "metadata": {
        "colab": {
          "base_uri": "https://localhost:8080/",
          "height": 391
        },
        "id": "yd_UIH8O5tBM",
        "outputId": "c1e465fa-a8d0-4539-9af2-00f43af313e6"
      },
      "execution_count": 33,
      "outputs": [
        {
          "output_type": "display_data",
          "data": {
            "text/plain": [
              "<Figure size 1000x400 with 1 Axes>"
            ],
            "image/png": "[encoded data removed]"
          },
          "metadata": {}
        }
      ]
    },
    {
      "cell_type": "markdown",
      "source": [
        "Estimativa de Demanda de Zíperes para Produção de Luvas\n",
        "\n",
        "Com base na previsão de vendas para os próximos três meses, a demanda estimada para produção de pares de luvas é de 643 pares por mês. Considerando que cada par de luvas requer 2 zíperes, a quantidade total de zíperes necessários para atender à demanda projetada é de:\n",
        "\n",
        "643 x 2 = 1286 zíperes por mês.\n",
        "\n",
        "SAbendo o valor pra um mês, podemos concluir que a demanda para os próximos 3 meses é de:\n",
        "\n",
        "1286 * 3 = 3858\n",
        "\n",
        "Conclusão: O fornecedor deve solicitar 3.858 zíperes para atender à produção global de luvas prevista para os próximos três meses.\n",
        "\n"
      ],
      "metadata": {
        "id": "CF0kwnMoAYCe"
      }
    }
  ]
}